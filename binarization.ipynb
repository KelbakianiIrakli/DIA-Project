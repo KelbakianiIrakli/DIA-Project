{
 "cells": [
  {
   "cell_type": "code",
   "execution_count": 1,
   "id": "ed5c1d36",
   "metadata": {},
   "outputs": [],
   "source": [
    "# pip3 install opencv-python numpy matplotlib\n",
    "import cv2 as cv\n",
    "import numpy as np\n",
    "from PIL import Image\n",
    "from matplotlib import pyplot as plt\n",
    "import os\n"
   ]
  },
  {
   "cell_type": "code",
   "execution_count": 2,
   "id": "5408a4fc",
   "metadata": {},
   "outputs": [],
   "source": [
    "# Source: https://medium.com/analytics-vidhya/binarization-of-image-using-numpy-65df2b82e189\n",
    "def read_this(image_file, gray_scale=False):\n",
    "    image_src = cv.imread(image_file)\n",
    "    if gray_scale:\n",
    "        image_src = cv.cvtColor(image_src, cv.COLOR_BGR2GRAY)\n",
    "    else:\n",
    "        image_src = cv.cvtColor(image_src, cv.COLOR_BGR2RGB)\n",
    "    return image_src"
   ]
  },
  {
   "cell_type": "code",
   "execution_count": 3,
   "id": "5b646b64",
   "metadata": {},
   "outputs": [],
   "source": [
    "def ApplyOtsu(image_file, thresh_val=127, gray_scale=True):\n",
    "    image_src = read_this(image_file=image_file, gray_scale=gray_scale)\n",
    "    blur = cv.GaussianBlur(image_src,(5,5),0)\n",
    "    th, image_b = cv.threshold(image_src, 0, 255, cv.THRESH_BINARY+ cv.THRESH_OTSU)\n",
    "    return Image.fromarray(image_b)"
   ]
  },
  {
   "cell_type": "code",
   "execution_count": 4,
   "id": "98547aff",
   "metadata": {},
   "outputs": [],
   "source": [
    "def save_image(image, old_name, dir):\n",
    "    if('_binarized' not in old_name):\n",
    "        index = dir.find('.jpg')\n",
    "        final_string = dir[:index] + '_binarized' + dir[index:]\n",
    "        image.save(final_string)\n",
    "    \n",
    "\n",
    "def main():\n",
    "    dir = os.getcwd()\n",
    "    try:\n",
    "        #assuming this file is one directory upper than images\n",
    "        directory = os.fsencode(dir + '/images/')\n",
    "        for file in os.listdir(directory):\n",
    "            filename = os.fsdecode(file)\n",
    "            if filename.endswith(\".jpg\"):\n",
    "                image_dir = dir + '/images/' + filename\n",
    "                binarized_image = ApplyOtsu(image_file=image_dir)\n",
    "                save_image(binarized_image, filename, image_dir)\n",
    "            else:\n",
    "                continue\n",
    "                \n",
    "    except Exception as e:\n",
    "        print(e)\n",
    "\n",
    "if __name__ == \"__main__\":\n",
    "    main()  "
   ]
  },
  {
   "cell_type": "code",
   "execution_count": 26,
   "id": "ed77eeed",
   "metadata": {},
   "outputs": [
    {
     "data": {
      "text/plain": [
       "-1"
      ]
     },
     "execution_count": 26,
     "metadata": {},
     "output_type": "execute_result"
    }
   ],
   "source": [
    "import cv2\n",
    "import numpy as np\n",
    "#identify paragraps\n",
    "# Load image, grayscale, Gaussian blur, Otsu's threshold\n",
    "image = cv2.imread('./images/fmb-cb-55-075r_binarized.jpg')\n",
    "gray = cv2.cvtColor(image, cv2.COLOR_BGR2GRAY)\n",
    "blur = cv2.GaussianBlur(gray, (7,7), 0)\n",
    "thresh = cv2.threshold(blur, 0, 255, cv2.THRESH_BINARY_INV + cv2.THRESH_OTSU)[1]\n",
    "\n",
    "# Create rectangular structuring element and dilate\n",
    "kernel = cv2.getStructuringElement(cv2.MORPH_RECT, (5,5))\n",
    "dilate = cv2.dilate(thresh, kernel, iterations=4)\n",
    "\n",
    "# Find contours and draw rectangle\n",
    "cnts = cv2.findContours(dilate, cv2.RETR_EXTERNAL, cv2.CHAIN_APPROX_SIMPLE)\n",
    "cnts = cnts[0] if len(cnts) == 2 else cnts[1]\n",
    "\n",
    "cropped = [];\n",
    "for c in cnts:\n",
    "    x,y,w,h = cv2.boundingRect(c)\n",
    "    cropped.append(image[y:y+h, x:x+w])\n",
    "    cv2.rectangle(image, (x, y), (x + w, y + h), (30,200,10), 2)\n",
    "\n",
    "#cv2.imshow('thresh', thresh)\n",
    "#cv2.imshow('dilate', dilate)\n",
    "cv2.imshow('image', image)\n",
    "i = 0\n",
    "for k in cropped:\n",
    "    cv2.imwrite('cropped_image' + str(i) +'.png', k)\n",
    "    i= i+1\n",
    "cv2.waitKey()"
   ]
  },
  {
   "cell_type": "code",
   "execution_count": null,
   "id": "5c45cd7d",
   "metadata": {},
   "outputs": [],
   "source": []
  }
 ],
 "metadata": {
  "kernelspec": {
   "display_name": "Python 3 (ipykernel)",
   "language": "python",
   "name": "python3"
  },
  "language_info": {
   "codemirror_mode": {
    "name": "ipython",
    "version": 3
   },
   "file_extension": ".py",
   "mimetype": "text/x-python",
   "name": "python",
   "nbconvert_exporter": "python",
   "pygments_lexer": "ipython3",
   "version": "3.9.7"
  }
 },
 "nbformat": 4,
 "nbformat_minor": 5
}
