{
 "cells": [
  {
   "cell_type": "code",
   "execution_count": 32,
   "metadata": {
    "collapsed": true
   },
   "outputs": [],
   "source": [
    "import cv2 as cv\n",
    "import numpy as np\n",
    "from PIL import Image\n",
    "from matplotlib import pyplot as plt\n",
    "from pixelmatch import pixelmatch as pm\n",
    "from pixelmatch.contrib.PIL import pixelmatch as pm2\n",
    "import os"
   ]
  },
  {
   "cell_type": "code",
   "execution_count": 40,
   "outputs": [],
   "source": [
    "img = Image.open(\"images/test1.gif\")\n",
    "gt = Image.open(\"images/ground_truth.gif\")"
   ],
   "metadata": {
    "collapsed": false,
    "pycharm": {
     "name": "#%%\n"
    }
   }
  },
  {
   "cell_type": "code",
   "execution_count": 41,
   "outputs": [],
   "source": [
    "img_diff = Image.new(\"RGB\", img.size)"
   ],
   "metadata": {
    "collapsed": false,
    "pycharm": {
     "name": "#%%\n"
    }
   }
  },
  {
   "cell_type": "markdown",
   "source": [],
   "metadata": {
    "collapsed": false
   }
  },
  {
   "cell_type": "code",
   "execution_count": 42,
   "outputs": [],
   "source": [
    "mismatch = pm2(img, gt, img_diff, includeAA=True)\n",
    "img_diff.save(\"diff.png\")"
   ],
   "metadata": {
    "collapsed": false,
    "pycharm": {
     "name": "#%%\n"
    }
   }
  },
  {
   "cell_type": "code",
   "execution_count": 43,
   "outputs": [],
   "source": [
    "img = Image.open('diff.png')\n",
    "rgba = img.convert(\"RGBA\")\n",
    "datas = img_diff.getdata()\n",
    "\n",
    "newData = []\n",
    "\n",
    "for item in datas:\n",
    "\n",
    "    if item[0] == 0 and item[1] == 0 and item[2] == 0:\n",
    "\n",
    "        newData.append((255, 255, 255, 0))\n",
    "\n",
    "    else:\n",
    "\n",
    "        newData.append(item)\n",
    "\n",
    "rgba.putdata(newData)\n",
    "rgba.save(\"transparent_image.png\", \"PNG\")"
   ],
   "metadata": {
    "collapsed": false,
    "pycharm": {
     "name": "#%%\n"
    }
   }
  },
  {
   "cell_type": "code",
   "execution_count": null,
   "outputs": [],
   "source": [],
   "metadata": {
    "collapsed": false,
    "pycharm": {
     "name": "#%%\n"
    }
   }
  }
 ],
 "metadata": {
  "kernelspec": {
   "display_name": "Python 3",
   "language": "python",
   "name": "python3"
  },
  "language_info": {
   "codemirror_mode": {
    "name": "ipython",
    "version": 2
   },
   "file_extension": ".py",
   "mimetype": "text/x-python",
   "name": "python",
   "nbconvert_exporter": "python",
   "pygments_lexer": "ipython2",
   "version": "2.7.6"
  }
 },
 "nbformat": 4,
 "nbformat_minor": 0
}