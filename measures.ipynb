{
 "cells": [
  {
   "cell_type": "code",
   "execution_count": 8,
   "metadata": {
    "collapsed": true
   },
   "outputs": [],
   "source": [
    "import cv2 as cv\n",
    "import numpy as np\n",
    "from PIL import Image\n",
    "from matplotlib import pyplot as plt\n",
    "#from pixelmatch import pixelmatch as pm\n",
    "from pixelmatch.contrib.PIL import pixelmatch as pm2\n",
    "import os\n",
    "from pathlib import *\n",
    "#import magickwand as mw"
   ]
  },
  {
   "cell_type": "code",
   "execution_count": 9,
   "outputs": [],
   "source": [
    "img = Image.open(\"images/test1.gif\")\n",
    "gt = Image.open(\"images/ground_truth.gif\")"
   ],
   "metadata": {
    "collapsed": false,
    "pycharm": {
     "name": "#%%\n"
    }
   }
  },
  {
   "cell_type": "code",
   "execution_count": 10,
   "outputs": [],
   "source": [
    "img_diff = Image.new(\"RGB\", img.size)\n",
    "width, height= img.width, img.height"
   ],
   "metadata": {
    "collapsed": false,
    "pycharm": {
     "name": "#%%\n"
    }
   }
  },
  {
   "cell_type": "markdown",
   "source": [
    "Creating an image mask, the mismatching pixel will be returned on red color (i.e. rgb[255, 0, 0])"
   ],
   "metadata": {
    "collapsed": false
   }
  },
  {
   "cell_type": "code",
   "execution_count": 54,
   "outputs": [],
   "source": [
    "#mismatch = pm2(img, gt, img_diff, threshold=.2, includeAA=True, diff_color=[0, 0, 0])\n",
    "\n",
    "#Mask generation\n",
    "#mismatch = pm2(img, gt, img_diff, threshold=0, alpha=0.4, includeAA=True)\n",
    "mismatch = pm2(img, gt, img_diff, threshold=0, includeAA=True, diff_mask=True)\n",
    "\n",
    "#img_diff.save(\"diff.png\")\n",
    "\n",
    "#Mask saving\n",
    "img_diff.save(\"diff_red.png\")"
   ],
   "metadata": {
    "collapsed": false,
    "pycharm": {
     "name": "#%%\n"
    }
   }
  },
  {
   "cell_type": "markdown",
   "source": [
    "Splitting the original image in multiple images, one for each line using the script *multicrop2*"
   ],
   "metadata": {
    "collapsed": false
   }
  },
  {
   "cell_type": "code",
   "execution_count": 49,
   "outputs": [
    {
     "name": "stdout",
     "output_type": "stream",
     "text": [
      "multicrop2: line 215: type: multicrop2: not found\r\n",
      "usage: dirname string [...]\r\n",
      "usage: basename string [suffix]\r\n",
      "       basename [-a] [-s suffix] string [...]\r\n",
      "\r\n",
      "\r\n",
      "Processing Image 0\r\n",
      "Initial Crop Box: 425x17+283+969\r\n",
      "\r\n",
      "Processing Image 1\r\n",
      "Initial Crop Box: 423x17+289+831\r\n",
      "\r\n",
      "Processing Image 2\r\n",
      "Initial Crop Box: 420x14+281+1097\r\n",
      "\r\n",
      "Processing Image 3\r\n",
      "Initial Crop Box: 418x11+279+1019\r\n",
      "\r\n",
      "Processing Image 4\r\n",
      "Initial Crop Box: 418x14+281+1077\r\n",
      "\r\n",
      "Processing Image 5\r\n",
      "Initial Crop Box: 417x13+284+1039\r\n",
      "\r\n",
      "Processing Image 6\r\n",
      "Initial Crop Box: 411x11+284+1118\r\n",
      "\r\n",
      "Processing Image 7\r\n",
      "Initial Crop Box: 409x15+283+1057\r\n",
      "\r\n",
      "Processing Image 8\r\n",
      "Initial Crop Box: 402x14+288+453\r\n",
      "\r\n",
      "Processing Image 9\r\n",
      "Initial Crop Box: 398x18+289+804\r\n",
      "\r\n",
      "Processing Image 10\r\n",
      "Initial Crop Box: 397x17+282+695\r\n",
      "\r\n",
      "Processing Image 11\r\n",
      "Initial Crop Box: 393x21+289+337\r\n",
      "\r\n",
      "Processing Image 12\r\n",
      "Initial Crop Box: 390x13+292+202\r\n",
      "\r\n",
      "Processing Image 13\r\n",
      "Initial Crop Box: 385x14+286+479\r\n",
      "\r\n",
      "Processing Image 14\r\n",
      "Initial Crop Box: 382x18+282+942\r\n",
      "\r\n",
      "Processing Image 15\r\n",
      "Initial Crop Box: 381x19+288+368\r\n",
      "\r\n",
      "Processing Image 16\r\n",
      "Initial Crop Box: 380x18+289+422\r\n",
      "\r\n",
      "Processing Image 17\r\n",
      "Initial Crop Box: 378x16+289+282\r\n",
      "\r\n",
      "Processing Image 18\r\n",
      "Initial Crop Box: 377x16+289+505\r\n",
      "\r\n",
      "Processing Image 19\r\n",
      "Initial Crop Box: 375x15+287+560\r\n",
      "\r\n",
      "Processing Image 20\r\n",
      "Initial Crop Box: 373x12+290+231\r\n",
      "\r\n",
      "Processing Image 21\r\n",
      "Initial Crop Box: 370x17+284+723\r\n",
      "\r\n",
      "Processing Image 22\r\n",
      "Initial Crop Box: 368x11+289+176\r\n",
      "\r\n",
      "Processing Image 23\r\n",
      "Initial Crop Box: 367x22+283+610\r\n",
      "\r\n",
      "Processing Image 24\r\n",
      "Initial Crop Box: 364x17+282+885\r\n",
      "\r\n",
      "Processing Image 25\r\n",
      "Initial Crop Box: 356x15+288+398\r\n",
      "\r\n",
      "Processing Image 26\r\n",
      "Initial Crop Box: 354x16+287+860\r\n",
      "\r\n",
      "Processing Image 27\r\n",
      "Initial Crop Box: 351x21+289+584\r\n",
      "\r\n",
      "Processing Image 28\r\n",
      "Initial Crop Box: 349x15+283+779\r\n",
      "\r\n",
      "Processing Image 29\r\n",
      "Initial Crop Box: 347x17+289+912\r\n",
      "\r\n",
      "Processing Image 30\r\n",
      "Initial Crop Box: 343x17+289+750\r\n",
      "\r\n",
      "Processing Image 31\r\n",
      "Initial Crop Box: 331x16+281+532\r\n",
      "\r\n",
      "Processing Image 32\r\n",
      "Initial Crop Box: 329x15+290+311\r\n",
      "\r\n",
      "Processing Image 33\r\n",
      "Initial Crop Box: 328x18+289+255\r\n",
      "\r\n",
      "Processing Image 34\r\n",
      "Initial Crop Box: 317x19+285+638\r\n",
      "\r\n",
      "Processing Image 35\r\n",
      "Initial Crop Box: 286x19+289+664\r\n",
      "\r\n",
      "Processing Image 36\r\n",
      "Initial Crop Box: 193x10+65+904\r\n",
      "\r\n",
      "Processing Image 37\r\n",
      "Initial Crop Box: 191x14+67+784\r\n",
      "\r\n",
      "Processing Image 38\r\n",
      "Initial Crop Box: 191x10+69+1004\r\n",
      "\r\n",
      "Processing Image 39\r\n",
      "Initial Crop Box: 191x8+69+592\r\n",
      "\r\n",
      "Processing Image 40\r\n",
      "Initial Crop Box: 191x8+68+611\r\n",
      "\r\n",
      "Processing Image 41\r\n",
      "Initial Crop Box: 191x10+69+649\r\n",
      "\r\n",
      "Processing Image 42\r\n",
      "Initial Crop Box: 190x12+71+552\r\n",
      "\r\n",
      "Processing Image 43\r\n",
      "Initial Crop Box: 190x11+72+288\r\n",
      "\r\n",
      "Processing Image 44\r\n",
      "Initial Crop Box: 190x10+68+824\r\n",
      "\r\n",
      "Processing Image 45\r\n",
      "Initial Crop Box: 189x11+68+766\r\n",
      "\r\n",
      "Processing Image 46\r\n",
      "Initial Crop Box: 188x14+67+803\r\n",
      "\r\n",
      "Processing Image 47\r\n",
      "Initial Crop Box: 188x10+73+348\r\n",
      "\r\n",
      "Processing Image 48\r\n",
      "Initial Crop Box: 188x11+69+745\r\n",
      "\r\n",
      "Processing Image 49\r\n",
      "Initial Crop Box: 188x8+67+1026\r\n",
      "\r\n",
      "Processing Image 50\r\n",
      "Initial Crop Box: 188x9+68+630\r\n",
      "\r\n",
      "Processing Image 51\r\n",
      "Initial Crop Box: 188x7+69+866\r\n",
      "\r\n",
      "Processing Image 52\r\n",
      "Initial Crop Box: 187x9+69+885\r\n",
      "\r\n",
      "Processing Image 53\r\n",
      "Initial Crop Box: 187x8+71+573\r\n",
      "\r\n",
      "Processing Image 54\r\n",
      "Initial Crop Box: 187x9+77+249\r\n",
      "\r\n",
      "Processing Image 55\r\n",
      "Initial Crop Box: 187x10+76+268\r\n",
      "\r\n",
      "Processing Image 56\r\n",
      "Initial Crop Box: 187x8+68+515\r\n",
      "\r\n",
      "Processing Image 57\r\n",
      "Initial Crop Box: 186x11+68+668\r\n",
      "\r\n",
      "Processing Image 58\r\n",
      "Initial Crop Box: 186x9+77+230\r\n",
      "\r\n",
      "Processing Image 59\r\n",
      "Initial Crop Box: 185x10+68+924\r\n",
      "\r\n",
      "Processing Image 60\r\n",
      "Initial Crop Box: 185x8+78+211\r\n",
      "\r\n",
      "Processing Image 61\r\n",
      "Initial Crop Box: 185x8+73+534\r\n",
      "\r\n",
      "Processing Image 62\r\n",
      "Initial Crop Box: 185x11+70+706\r\n",
      "\r\n",
      "Processing Image 63\r\n",
      "Initial Crop Box: 184x9+75+495\r\n",
      "\r\n",
      "Processing Image 64\r\n",
      "Initial Crop Box: 183x9+75+329\r\n",
      "\r\n",
      "Processing Image 65\r\n",
      "Initial Crop Box: 183x11+71+726\r\n",
      "\r\n",
      "Processing Image 66\r\n",
      "Initial Crop Box: 183x14+734+242\r\n",
      "\r\n",
      "Processing Image 67\r\n",
      "Initial Crop Box: 183x9+734+486\r\n",
      "\r\n",
      "Processing Image 68\r\n",
      "Initial Crop Box: 182x9+63+985\r\n",
      "\r\n",
      "Processing Image 69\r\n",
      "Initial Crop Box: 182x8+68+845\r\n",
      "\r\n",
      "Processing Image 70\r\n",
      "Initial Crop Box: 181x10+76+368\r\n",
      "\r\n",
      "Processing Image 71\r\n",
      "Initial Crop Box: 181x8+727+1024\r\n",
      "\r\n",
      "Processing Image 72\r\n",
      "Initial Crop Box: 181x10+68+944\r\n",
      "\r\n",
      "Processing Image 73\r\n",
      "Initial Crop Box: 180x14+737+281\r\n",
      "\r\n",
      "Processing Image 74\r\n",
      "Initial Crop Box: 180x9+735+204\r\n",
      "\r\n",
      "Processing Image 75\r\n",
      "Initial Crop Box: 179x11+733+505\r\n",
      "\r\n",
      "Processing Image 76\r\n",
      "Initial Crop Box: 179x9+725+1005\r\n",
      "\r\n",
      "Processing Image 77\r\n",
      "Initial Crop Box: 179x11+71+687\r\n",
      "\r\n",
      "Processing Image 78\r\n",
      "Initial Crop Box: 178x13+738+223\r\n",
      "\r\n",
      "Processing Image 79\r\n",
      "Initial Crop Box: 178x12+78+308\r\n",
      "\r\n",
      "Processing Image 80\r\n",
      "Initial Crop Box: 177x13+736+261\r\n",
      "\r\n",
      "Processing Image 81\r\n",
      "Initial Crop Box: 177x11+736+466\r\n",
      "\r\n",
      "Processing Image 82\r\n",
      "Initial Crop Box: 176x12+730+964\r\n",
      "\r\n",
      "Processing Image 83\r\n",
      "Initial Crop Box: 175x9+728+986\r\n",
      "\r\n",
      "Processing Image 84\r\n",
      "Initial Crop Box: 170x10+737+405\r\n",
      "\r\n",
      "Processing Image 85\r\n",
      "Initial Crop Box: 170x12+733+446\r\n",
      "\r\n",
      "Processing Image 86\r\n",
      "Initial Crop Box: 168x10+726+1042\r\n",
      "\r\n",
      "Processing Image 87\r\n",
      "Initial Crop Box: 167x13+738+426\r\n",
      "\r\n",
      "Processing Image 88\r\n",
      "Initial Crop Box: 131x10+735+301\r\n",
      "\r\n",
      "Processing Image 89\r\n",
      "Initial Crop Box: 121x8+733+526\r\n",
      "\r\n",
      "Processing Image 90\r\n",
      "Initial Crop Box: 109x7+75+389\r\n",
      "\r\n",
      "Processing Image 91\r\n",
      "Initial Crop Box: 88x8+66+1047\r\n",
      "\r\n",
      "\r\n"
     ]
    }
   ],
   "source": [
    "!sh multicrop2 diff_red.png lines/line.png"
   ],
   "metadata": {
    "collapsed": false,
    "pycharm": {
     "name": "#%%\n"
    }
   }
  },
  {
   "cell_type": "code",
   "execution_count": 55,
   "outputs": [],
   "source": [
    "#Aplha channel integration on the lines images\n",
    "def alpha_channel2(image, dir='/Users/mappo/PycharmProjects/DIA/DIA-Project/'):\n",
    "    img = Image.open(image)\n",
    "    img = img.convert(\"RGBA\")\n",
    "    datas = img.getdata()\n",
    "    newData = []\n",
    "    for item in datas:\n",
    "        if item[0] == 153 and item[1] == 153 and item[2] == 153:\n",
    "            newData.append((255, 255, 255, 0))\n",
    "        else:\n",
    "            newData.append(item)\n",
    "    img.putdata(newData)\n",
    "    name, extension = os.path.splitext(image)\n",
    "    string = dir + os.path.basename(name) + '_alpha.png'\n",
    "    img.save(string, \"PNG\")"
   ],
   "metadata": {
    "collapsed": false,
    "pycharm": {
     "name": "#%%\n"
    }
   }
  },
  {
   "cell_type": "code",
   "execution_count": 56,
   "outputs": [],
   "source": [
    "alpha_channel2('diff_red.png')"
   ],
   "metadata": {
    "collapsed": false,
    "pycharm": {
     "name": "#%%\n"
    }
   }
  },
  {
   "cell_type": "code",
   "execution_count": null,
   "outputs": [],
   "source": [
    "#Aplha channel integration on the lines images\n",
    "\"\"\"\n",
    "def alpha_channel(image, dir='/Users/mappo/PycharmProjects/DIA/DIA-Project/lines_alpha/'):\n",
    "    img = Image.open(image)\n",
    "    img = img.convert(\"RGBA\")\n",
    "    datas = img.getdata()\n",
    "    newData = []\n",
    "    for item in datas:\n",
    "        if item[0] == 229 and item[1] == 229 and item[2] == 229:\n",
    "            newData.append((255, 255, 255, 0))\n",
    "        else:\n",
    "            newData.append(item)\n",
    "    img.putdata(newData)\n",
    "    name, extension = os.path.splitext(image)\n",
    "    string = dir + os.path.basename(name) + '_alpha.png'\n",
    "    img.save(string, \"PNG\")\n",
    "\"\"\""
   ],
   "metadata": {
    "collapsed": false,
    "pycharm": {
     "name": "#%%\n"
    }
   }
  },
  {
   "cell_type": "code",
   "execution_count": 5,
   "outputs": [
    {
     "ename": "NameError",
     "evalue": "name 'pathlib' is not defined",
     "output_type": "error",
     "traceback": [
      "\u001B[0;31m---------------------------------------------------------------------------\u001B[0m",
      "\u001B[0;31mNameError\u001B[0m                                 Traceback (most recent call last)",
      "Input \u001B[0;32mIn [5]\u001B[0m, in \u001B[0;36m<cell line: 3>\u001B[0;34m()\u001B[0m\n\u001B[1;32m      1\u001B[0m \u001B[38;5;66;03m#os.path.isfile('./lines/line-000.png')\u001B[39;00m\n\u001B[1;32m      2\u001B[0m \u001B[38;5;66;03m#os.path.isdir('/Users/mappo/PycharmProjects/DIA/DIA-Project/lines')\u001B[39;00m\n\u001B[0;32m----> 3\u001B[0m \u001B[43mpathlib\u001B[49m\u001B[38;5;241m.\u001B[39mPath()\n\u001B[1;32m      4\u001B[0m p \u001B[38;5;241m=\u001B[39m pathlib\u001B[38;5;241m.\u001B[39mPath(\u001B[38;5;124m\"\u001B[39m\u001B[38;5;124mlines\u001B[39m\u001B[38;5;124m\"\u001B[39m, \u001B[38;5;124m\"\u001B[39m\u001B[38;5;124mline-000.png\u001B[39m\u001B[38;5;124m\"\u001B[39m)\n",
      "\u001B[0;31mNameError\u001B[0m: name 'pathlib' is not defined"
     ]
    }
   ],
   "source": [
    "#os.path.isfile('./lines/line-000.png')\n",
    "#os.path.isdir('/Users/mappo/PycharmProjects/DIA/DIA-Project/lines')\n",
    "#pathlib.Path()\n",
    "#p = pathlib.Path(\"lines\", \"line-000.png\")"
   ],
   "metadata": {
    "collapsed": false,
    "pycharm": {
     "name": "#%%\n"
    }
   }
  },
  {
   "cell_type": "code",
   "execution_count": 32,
   "outputs": [],
   "source": [
    "#alpha_channel('./lines/line-000.png')"
   ],
   "metadata": {
    "collapsed": false,
    "pycharm": {
     "name": "#%%\n"
    }
   }
  },
  {
   "cell_type": "code",
   "execution_count": 18,
   "outputs": [],
   "source": [
    "#src_dir = '/Users/mappo/PycharmProjects/DIA/DIA-Project/lines'\n",
    "#dst_dir = '/Users/mappo/PycharmProjects/DIA/DIA-Project/lines_alpha'"
   ],
   "metadata": {
    "collapsed": false,
    "pycharm": {
     "name": "#%%\n"
    }
   }
  },
  {
   "cell_type": "code",
   "execution_count": 20,
   "outputs": [
    {
     "ename": "FileNotFoundError",
     "evalue": "[Errno 2] No such file or directory: 'line-057.png'",
     "output_type": "error",
     "traceback": [
      "\u001B[0;31m---------------------------------------------------------------------------\u001B[0m",
      "\u001B[0;31mFileNotFoundError\u001B[0m                         Traceback (most recent call last)",
      "Input \u001B[0;32mIn [20]\u001B[0m, in \u001B[0;36m<cell line: 2>\u001B[0;34m()\u001B[0m\n\u001B[1;32m      1\u001B[0m os\u001B[38;5;241m.\u001B[39mchdir(dst_dir)\n\u001B[1;32m      2\u001B[0m \u001B[38;5;28;01mfor\u001B[39;00m filename \u001B[38;5;129;01min\u001B[39;00m os\u001B[38;5;241m.\u001B[39mlistdir(src_dir):\n\u001B[0;32m----> 3\u001B[0m     \u001B[43malpha_channel\u001B[49m\u001B[43m(\u001B[49m\u001B[43mfilename\u001B[49m\u001B[43m)\u001B[49m\n",
      "Input \u001B[0;32mIn [14]\u001B[0m, in \u001B[0;36malpha_channel\u001B[0;34m(image)\u001B[0m\n\u001B[1;32m      2\u001B[0m \u001B[38;5;28;01mdef\u001B[39;00m \u001B[38;5;21malpha_channel\u001B[39m(image):\n\u001B[0;32m----> 3\u001B[0m     img \u001B[38;5;241m=\u001B[39m \u001B[43mImage\u001B[49m\u001B[38;5;241;43m.\u001B[39;49m\u001B[43mopen\u001B[49m\u001B[43m(\u001B[49m\u001B[43mimage\u001B[49m\u001B[43m)\u001B[49m\n\u001B[1;32m      4\u001B[0m     img \u001B[38;5;241m=\u001B[39m img\u001B[38;5;241m.\u001B[39mconvert(\u001B[38;5;124m\"\u001B[39m\u001B[38;5;124mRGBA\u001B[39m\u001B[38;5;124m\"\u001B[39m)\n\u001B[1;32m      5\u001B[0m     datas \u001B[38;5;241m=\u001B[39m img\u001B[38;5;241m.\u001B[39mgetdata()\n",
      "File \u001B[0;32m~/PycharmProjects/DIA/venv/lib/python3.10/site-packages/PIL/Image.py:3068\u001B[0m, in \u001B[0;36mopen\u001B[0;34m(fp, mode, formats)\u001B[0m\n\u001B[1;32m   3065\u001B[0m     filename \u001B[38;5;241m=\u001B[39m fp\n\u001B[1;32m   3067\u001B[0m \u001B[38;5;28;01mif\u001B[39;00m filename:\n\u001B[0;32m-> 3068\u001B[0m     fp \u001B[38;5;241m=\u001B[39m \u001B[43mbuiltins\u001B[49m\u001B[38;5;241;43m.\u001B[39;49m\u001B[43mopen\u001B[49m\u001B[43m(\u001B[49m\u001B[43mfilename\u001B[49m\u001B[43m,\u001B[49m\u001B[43m \u001B[49m\u001B[38;5;124;43m\"\u001B[39;49m\u001B[38;5;124;43mrb\u001B[39;49m\u001B[38;5;124;43m\"\u001B[39;49m\u001B[43m)\u001B[49m\n\u001B[1;32m   3069\u001B[0m     exclusive_fp \u001B[38;5;241m=\u001B[39m \u001B[38;5;28;01mTrue\u001B[39;00m\n\u001B[1;32m   3071\u001B[0m \u001B[38;5;28;01mtry\u001B[39;00m:\n",
      "\u001B[0;31mFileNotFoundError\u001B[0m: [Errno 2] No such file or directory: 'line-057.png'"
     ]
    }
   ],
   "source": [
    "#for filename in os.listdir(src_dir):\n",
    "#    alpha_channel(filename)"
   ],
   "metadata": {
    "collapsed": false,
    "pycharm": {
     "name": "#%%\n"
    }
   }
  },
  {
   "cell_type": "code",
   "execution_count": 3,
   "outputs": [],
   "source": [
    "#img = cv.imread(\"line-000.png\")\n",
    "#img2 = cv.imread(\"line-000_alpha.png\")"
   ],
   "metadata": {
    "collapsed": false,
    "pycharm": {
     "name": "#%%\n"
    }
   }
  },
  {
   "cell_type": "markdown",
   "source": [
    "Definig a function able to find number of pixels of a certain colour\n",
    "Adapted from: <a href=https://github.com/townsean/pixel-color-count/blob/master/pixel-color-count.py>https://github.com/townsean/pixel-color-count/blob/master/pixel-color-count.py<a>"
   ],
   "metadata": {
    "collapsed": false
   }
  },
  {
   "cell_type": "code",
   "execution_count": 61,
   "outputs": [],
   "source": [
    "def count_pixels(filename):\n",
    "    \"\"\"\n",
    "    Returns a count of pixels per a unique color\n",
    "    Args:\n",
    "        filename (str): the image to count the number of pixels of\n",
    "    Returns:\n",
    "        a key-value pairing of the rgb color value and the number of times the color was present in the image\n",
    "    \"\"\"\n",
    "    color_count = {}\n",
    "    with Image.open(filename) as image:\n",
    "        width, height = image.size\n",
    "        rgb_image = image.convert('RGBA')\n",
    "\n",
    "        # iterate through each pixel in the image and keep a count per unique color\n",
    "        for x in range(width):\n",
    "            for y in range(height):\n",
    "                rgb = rgb_image.getpixel((x, y))\n",
    "\n",
    "                if rgb in color_count:\n",
    "                    color_count[rgb] += 1\n",
    "                else:\n",
    "                    color_count[rgb] = 1\n",
    "\n",
    "    return color_count"
   ],
   "metadata": {
    "collapsed": false,
    "pycharm": {
     "name": "#%%\n"
    }
   }
  },
  {
   "cell_type": "code",
   "execution_count": 62,
   "outputs": [],
   "source": [
    "colors = count_pixels('./lines2/line-000.png')\n",
    "#colors = count_pixels('./lines_alpha/line-000_alpha.png')"
   ],
   "metadata": {
    "collapsed": false,
    "pycharm": {
     "name": "#%%\n"
    }
   }
  },
  {
   "cell_type": "code",
   "execution_count": 63,
   "outputs": [
    {
     "data": {
      "text/plain": "{(255, 0, 0, 255): 862, (255, 255, 255, 0): 2972, (255, 255, 255, 255): 3391}"
     },
     "execution_count": 63,
     "metadata": {},
     "output_type": "execute_result"
    }
   ],
   "source": [
    "colors"
   ],
   "metadata": {
    "collapsed": false,
    "pycharm": {
     "name": "#%%\n"
    }
   }
  },
  {
   "cell_type": "code",
   "execution_count": 85,
   "outputs": [
    {
     "data": {
      "text/plain": "dict"
     },
     "execution_count": 85,
     "metadata": {},
     "output_type": "execute_result"
    }
   ],
   "source": [
    "type(colors)"
   ],
   "metadata": {
    "collapsed": false,
    "pycharm": {
     "name": "#%%\n"
    }
   }
  },
  {
   "cell_type": "code",
   "execution_count": 64,
   "outputs": [],
   "source": [
    "red_pxl = colors[(255, 0, 0, 255)]\n",
    "w_pxl = colors[(255, 255, 255, 255)]"
   ],
   "metadata": {
    "collapsed": false,
    "pycharm": {
     "name": "#%%\n"
    }
   }
  },
  {
   "cell_type": "markdown",
   "source": [
    "Accuracy calculation"
   ],
   "metadata": {
    "collapsed": false
   }
  },
  {
   "cell_type": "code",
   "execution_count": 68,
   "outputs": [
    {
     "name": "stdout",
     "output_type": "stream",
     "text": [
      "The accuracy for line 000 is: 0.7973195391488361\n"
     ]
    }
   ],
   "source": [
    "acc = w_pxl / (w_pxl + red_pxl)\n",
    "print(\"The accuracy for line 000 is: \" + str(acc))"
   ],
   "metadata": {
    "collapsed": false,
    "pycharm": {
     "name": "#%%\n"
    }
   }
  },
  {
   "cell_type": "code",
   "execution_count": 101,
   "outputs": [],
   "source": [
    "def element_acc(img):\n",
    "    colors = count_pixels(img)\n",
    "    #mismatched pixel are on red colour\n",
    "    #red_pxl = if(colors[(255, 0, 0, 255)]) else return 0\n",
    "    red_pxl = '(255, 0, 0, 255)' in colors.values()\n",
    "    #correctly mached ones are white\n",
    "    #w_pxl = colors[(255, 255, 255, 255)]\n",
    "    w_pxl = '(255, 255, 255, 255)' in colors.values()\n",
    "    #Accuracy param calculation right_pred_pixels / (right_pred_pixels + wrongly_pred_pixels)\n",
    "    #standard case\n",
    "    if (w_pxl & red_pxl) != 0:\n",
    "        acc = w_pxl / (w_pxl + red_pxl)\n",
    "    #case where red pixels are 0\n",
    "    elif(red_pxl == 0 & w_pxl != 0):\n",
    "        acc = 1\n",
    "    #case where white pixels are 0\n",
    "    else:\n",
    "        acc = 0\n",
    "    return(acc)"
   ],
   "metadata": {
    "collapsed": false,
    "pycharm": {
     "name": "#%%\n"
    }
   }
  },
  {
   "cell_type": "code",
   "execution_count": null,
   "outputs": [],
   "source": [
    "element_acc()"
   ],
   "metadata": {
    "collapsed": false,
    "pycharm": {
     "name": "#%%\n"
    }
   }
  },
  {
   "cell_type": "code",
   "execution_count": 103,
   "outputs": [
    {
     "name": "stdout",
     "output_type": "stream",
     "text": [
      "We have calulated the accuracy of 92 different lines featured on the image. \n",
      "\n",
      "The accuracy for the image is: 0.16375177149313402\n"
     ]
    }
   ],
   "source": [
    "folder_dir = \"/Users/mappo/PycharmProjects/DIA/DIA-Project/lines2/\"\n",
    "counter = 0\n",
    "\n",
    "for images in os.listdir(folder_dir):\n",
    "    # check if the image ends with png\n",
    "    if (images.endswith(\".png\")):\n",
    "        counter += 1\n",
    "        acc += element_acc(folder_dir + images)\n",
    "\n",
    "print(\"We have calulated the accuracy of \"+ str(counter) + \" different lines featured on the image. \\n\")\n",
    "avg_acc = acc/counter\n",
    "print(\"The accuracy for the image is: \" + str(avg_acc))"
   ],
   "metadata": {
    "collapsed": false,
    "pycharm": {
     "name": "#%%\n"
    }
   }
  },
  {
   "cell_type": "code",
   "execution_count": null,
   "outputs": [],
   "source": [],
   "metadata": {
    "collapsed": false,
    "pycharm": {
     "name": "#%%\n"
    }
   }
  }
 ],
 "metadata": {
  "kernelspec": {
   "display_name": "Python 3",
   "language": "python",
   "name": "python3"
  },
  "language_info": {
   "codemirror_mode": {
    "name": "ipython",
    "version": 2
   },
   "file_extension": ".py",
   "mimetype": "text/x-python",
   "name": "python",
   "nbconvert_exporter": "python",
   "pygments_lexer": "ipython2",
   "version": "2.7.6"
  }
 },
 "nbformat": 4,
 "nbformat_minor": 0
}