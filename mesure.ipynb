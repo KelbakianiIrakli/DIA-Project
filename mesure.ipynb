{
 "cells": [
  {
   "cell_type": "code",
   "execution_count": 10,
   "outputs": [],
   "source": [
    "import os\n",
    "from os import listdir\n",
    "from pathlib import *\n",
    "from pathlib import Path\n",
    "import cv2 as cv\n",
    "import numpy as np\n",
    "from PIL import Image\n",
    "import matplotlib\n",
    "\n",
    "matplotlib.use('TKAgg')\n",
    "import shutil\n",
    "from matplotlib import pyplot as plt\n",
    "from pixelmatch.contrib.PIL import pixelmatch as pm2"
   ],
   "metadata": {
    "collapsed": false,
    "pycharm": {
     "name": "#%%\n"
    }
   }
  },
  {
   "cell_type": "code",
   "execution_count": 11,
   "outputs": [
    {
     "data": {
      "text/plain": "'TkAgg'"
     },
     "execution_count": 11,
     "metadata": {},
     "output_type": "execute_result"
    }
   ],
   "source": [
    "matplotlib.get_backend()"
   ],
   "metadata": {
    "collapsed": false,
    "pycharm": {
     "name": "#%%\n"
    }
   }
  },
  {
   "cell_type": "markdown",
   "source": [
    "# Image lines segmentation"
   ],
   "metadata": {
    "collapsed": false
   }
  },
  {
   "cell_type": "markdown",
   "source": [
    "Find the edges of the image (i.e. the edges of the single lines).\n"
   ],
   "metadata": {
    "collapsed": false
   }
  },
  {
   "cell_type": "code",
   "execution_count": 12,
   "outputs": [],
   "source": [
    "def get_line(img, dr):\n",
    "    img = cv.imread(img)\n",
    "    grey = cv.cvtColor(img, cv.COLOR_BGR2GRAY)\n",
    "    contours, hierarchy = cv.findContours(grey, cv.RETR_EXTERNAL, cv.CHAIN_APPROX_NONE)\n",
    "    line_num = len(contours)\n",
    "    print(\"Number of line elements found: \" + str(line_num))\n",
    "\n",
    "    for x in range(len(contours)):\n",
    "        #selecting line x of those detected\n",
    "        bb = contours[x]\n",
    "        #creating a stencil of the original image\n",
    "        #1. preparing the black background image;\n",
    "        stencil = np.zeros(img.shape).astype(img.dtype)\n",
    "        #2. set into an array the actual contours of the 'line element';\n",
    "        cont = [np.array(bb)]\n",
    "        #3. fill the contours with white color (i.e. [255, 255, 255]);\n",
    "        line = cv.fillPoly(stencil, cont, color=(255, 255, 255))\n",
    "\n",
    "        #_._._Saving step\n",
    "        dr = './' + str(dr) + '/'\n",
    "        filename = dr + 'line' + str(x) + '.png'\n",
    "        cv.imwrite(filename, line)\n",
    "\n",
    "    return (line_num)"
   ],
   "metadata": {
    "collapsed": false,
    "pycharm": {
     "name": "#%%\n"
    }
   }
  },
  {
   "cell_type": "markdown",
   "source": [
    "# Intersection over Union"
   ],
   "metadata": {
    "collapsed": false
   }
  },
  {
   "cell_type": "code",
   "execution_count": 13,
   "outputs": [],
   "source": [
    "#Defining a function to calculate IoU on the fly\n",
    "def IoU(l1, l2):\n",
    "    intersection = np.logical_and(l1, l2)\n",
    "    union = np.logical_or(l1, l2)\n",
    "    iou_score = np.sum(intersection) / np.sum(union)\n",
    "    return (iou_score)"
   ],
   "metadata": {
    "collapsed": false,
    "pycharm": {
     "name": "#%%\n"
    }
   }
  },
  {
   "cell_type": "markdown",
   "source": [
    "# Recall and Percision"
   ],
   "metadata": {
    "collapsed": false
   }
  },
  {
   "cell_type": "markdown",
   "source": [
    "Procedure: https://www.jeremyjordan.me/evaluating-image-segmentation-models/"
   ],
   "metadata": {
    "collapsed": false
   }
  },
  {
   "cell_type": "code",
   "execution_count": 14,
   "outputs": [],
   "source": [
    "def recall(gt, prd):\n",
    "\n",
    "    #setting variables\n",
    "    score = []\n",
    "    TP = 0\n",
    "    FN = 0\n",
    "    threshold = .45\n",
    "    dir1 = Path(gt).glob('*.png')\n",
    "    dir2 = Path(prd).glob('*.png')\n",
    "\n",
    "    #number of lines detected on the gt image\n",
    "    gtn = sum(1 for _ in dir1)\n",
    "    #number of lines detected on the pred image\n",
    "    pn = sum(1 for _ in dir2)\n",
    "    xtr_ln = abs(pn - gtn)\n",
    "    print('gt lines: ' + str(gtn))\n",
    "    print('prd lines: ' + str(pn))\n",
    "\n",
    "    #Iterating through the gt lines found\n",
    "    for idx, img in enumerate(os.listdir(gt)):\n",
    "        if (img.endswith(\".png\")):\n",
    "            image1 = cv.imread(gt + img)\n",
    "\n",
    "            print(idx, idx, img)\n",
    "\n",
    "            #Iterating through the prd lines found\n",
    "            for idx2, img2 in enumerate(os.listdir(prd)):\n",
    "                if (img2.endswith(\".png\")):\n",
    "                    image2 = Image.open(prd + img2)\n",
    "\n",
    "                    #print(idx2, img2)\n",
    "\n",
    "                    score.append(IoU(image1, image2))\n",
    "\n",
    "            #Calculating FP and FN through predefined threshold\n",
    "            if max(score) > threshold:\n",
    "                TP += 1\n",
    "            else:\n",
    "                FN += 1\n",
    "            score = []\n",
    "\n",
    "    Rec = TP / (TP + FN)\n",
    "\n",
    "    #out = \"Recall score: \" + str(Rec)\n",
    "\n",
    "    return (Rec)"
   ],
   "metadata": {
    "collapsed": false,
    "pycharm": {
     "name": "#%%\n"
    }
   }
  },
  {
   "cell_type": "code",
   "execution_count": 15,
   "outputs": [],
   "source": [
    "def precision(gt, prd):\n",
    "\n",
    "    #setting variables\n",
    "    score = []\n",
    "    TP = 0\n",
    "    FP = 0\n",
    "    threshold = .45\n",
    "    dir1 = Path(gt).glob('*.png')\n",
    "    dir2 = Path(prd).glob('*.png')\n",
    "\n",
    "    #number of lines detected on the gt image\n",
    "    gtn = sum(1 for _ in dir1)\n",
    "    #number of lines detected on the pred image\n",
    "    pn = sum(1 for _ in dir2)\n",
    "    print('gt lines: ' + str(gtn))\n",
    "    print('prd lines: ' + str(pn))\n",
    "\n",
    "    #Iterating through the gt lines found\n",
    "    for idx, img in enumerate(os.listdir(prd)):\n",
    "        if (img.endswith(\".png\")):\n",
    "            image1 = cv.imread(prd + img)\n",
    "\n",
    "            print(idx, idx, img)\n",
    "\n",
    "            #Iterating through the prd lines found\n",
    "            for idx2, img2 in enumerate(os.listdir(gt)):\n",
    "                if (img2.endswith(\".png\")):\n",
    "                    image2 = Image.open(gt + img2)\n",
    "\n",
    "                    #print(idx2, img2)\n",
    "\n",
    "                    score.append(IoU(image1, image2))\n",
    "\n",
    "            #Calculating FP and FN through predefined threshold\n",
    "            if max(score) > threshold:\n",
    "                TP += 1\n",
    "            else:\n",
    "                FP += 1\n",
    "            score = []\n",
    "\n",
    "    Precision = TP / (TP + FP)\n",
    "\n",
    "    #out = \"Precision score: \" + str(Precision)\n",
    "\n",
    "    return (Precision)"
   ],
   "metadata": {
    "collapsed": false,
    "pycharm": {
     "name": "#%%\n"
    }
   }
  },
  {
   "cell_type": "code",
   "execution_count": null,
   "outputs": [],
   "source": [
    "def precision(gt, prd):\n",
    "\n",
    "    #setting variables\n",
    "    score = []\n",
    "    TP = 0\n",
    "    FP = 0\n",
    "    threshold = .45\n",
    "    dir1 = Path(gt).glob('*.png')\n",
    "    dir2 = Path(prd).glob('*.png')\n",
    "\n",
    "    #number of lines detected on the gt image\n",
    "    gtn = sum(1 for _ in dir1)\n",
    "    #number of lines detected on the pred image\n",
    "    pn = sum(1 for _ in dir2)\n",
    "    print('gt lines: ' + str(gtn))\n",
    "    print('prd lines: ' + str(pn))\n",
    "\n",
    "    #Iterating through the gt lines found\n",
    "    for idx, img in enumerate(os.listdir(prd)):\n",
    "        if (img.endswith(\".png\")):\n",
    "            image1 = cv.imread(prd + img)\n",
    "\n",
    "            print(idx, idx, img)\n",
    "\n",
    "            #Iterating through the prd lines found\n",
    "            for idx2, img2 in enumerate(os.listdir(gt)):\n",
    "                if (img2.endswith(\".png\")):\n",
    "                    image2 = Image.open(gt + img2)\n",
    "\n",
    "                    #print(idx2, img2)\n",
    "\n",
    "                    score.append(IoU(image1, image2))\n",
    "\n",
    "            #Calculating FP and FN through predefined threshold\n",
    "            if max(score) > threshold:\n",
    "                TP += 1\n",
    "            else:\n",
    "                FP += 1\n",
    "            score = []\n",
    "\n",
    "    Precision = TP / (TP + FP)\n",
    "\n",
    "    #out = \"Precision score: \" + str(Precision)\n",
    "\n",
    "    return (Precision)"
   ],
   "metadata": {
    "collapsed": false,
    "pycharm": {
     "name": "#%%\n"
    }
   }
  },
  {
   "cell_type": "code",
   "execution_count": 16,
   "outputs": [],
   "source": [
    "def get_fname(dir):\n",
    "    filename = dir.split('/')\n",
    "    filename = filename[-1]\n",
    "    return(filename)"
   ],
   "metadata": {
    "collapsed": false,
    "pycharm": {
     "name": "#%%\n"
    }
   }
  },
  {
   "cell_type": "markdown",
   "source": [
    "# Main"
   ],
   "metadata": {
    "collapsed": false
   }
  },
  {
   "cell_type": "code",
   "execution_count": 23,
   "outputs": [],
   "source": [
    "import os\n",
    "import glob\n",
    "\n",
    "def main():\n",
    "\n",
    "    n=0\n",
    "    rec=0\n",
    "    prec=0\n",
    "    iou=0\n",
    "    direc= os.getcwd()\n",
    "\n",
    "    for img in glob.glob(direc + '/gt/*.png'):\n",
    "        store_r=0\n",
    "        store_p=0\n",
    "        for img2 in glob.glob(direc + '/output/*.png'):\n",
    "            if get_fname(img) == get_fname(img2):\n",
    "              #_._.create working folders\n",
    "              os.mkdir(direc + '/linegt')\n",
    "              os.mkdir(direc + '/lineprd')\n",
    "              get_line(img, 'linegt')\n",
    "              get_line(img2, 'lineprd')\n",
    "              lin_gt = direc + '/linegt/'\n",
    "              lin_prd = direc + '/lineprd/'\n",
    "              store_r = recall(lin_gt, lin_prd)\n",
    "              rec = rec + store_r\n",
    "              print('Recall: ' + str(store_r))\n",
    "              store_p = precision(lin_gt, lin_prd)\n",
    "              prec = prec + store_p\n",
    "              print('Precision: ' + str(store_p))\n",
    "              iou += IoU(cv.imread(img), cv.imread(img2))\n",
    "              print('IoU: ' + str(iou))\n",
    "              n+=1\n",
    "              #_._.remove working folders\n",
    "              shutil.rmtree(direc + '/linegt')\n",
    "              shutil.rmtree(direc + '/lineprd')\n",
    "\n",
    "    rec_mean = rec/n\n",
    "    prec_mean = prec/n\n",
    "    iou_mean = iou/n\n",
    "    reca='\\n\\nRecall mean over '+ str(n) + ' documents: '+ str(rec_mean)\n",
    "    preci= '\\n\\nPrecision mean over '+ str(n) + ' documents: '+ str(prec_mean)\n",
    "    i_o_u= '\\n\\nIoU mean over '+ str(n) + ' documents: '+ str(iou_mean)\n",
    "    out = reca + preci + i_o_u\n",
    "    print(out)\n",
    "    return ()"
   ],
   "metadata": {
    "collapsed": false,
    "pycharm": {
     "name": "#%%\n"
    }
   }
  },
  {
   "cell_type": "code",
   "execution_count": null,
   "outputs": [],
   "source": [
    "if __name__ == \"__main__\":\n",
    "    main()"
   ],
   "metadata": {
    "collapsed": false,
    "pycharm": {
     "name": "#%%\n"
    }
   }
  }
 ],
 "metadata": {
  "kernelspec": {
   "display_name": "Python 3",
   "language": "python",
   "name": "python3"
  },
  "language_info": {
   "codemirror_mode": {
    "name": "ipython",
    "version": 2
   },
   "file_extension": ".py",
   "mimetype": "text/x-python",
   "name": "python",
   "nbconvert_exporter": "python",
   "pygments_lexer": "ipython2",
   "version": "2.7.6"
  }
 },
 "nbformat": 4,
 "nbformat_minor": 0
}