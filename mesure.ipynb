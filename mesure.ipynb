{
 "cells": [
  {
   "cell_type": "code",
   "execution_count": 92,
   "outputs": [],
   "source": [
    "import os\n",
    "from os import listdir\n",
    "from pathlib import *\n",
    "from pathlib import Path\n",
    "import cv2 as cv\n",
    "import numpy as np\n",
    "from PIL import Image\n",
    "import matplotlib\n",
    "\n",
    "matplotlib.use('TKAgg')\n",
    "import shutil\n",
    "from matplotlib import pyplot as plt\n",
    "from pixelmatch.contrib.PIL import pixelmatch as pm2"
   ],
   "metadata": {
    "collapsed": false,
    "pycharm": {
     "name": "#%%\n"
    }
   }
  },
  {
   "cell_type": "code",
   "execution_count": 24,
   "outputs": [
    {
     "data": {
      "text/plain": "'TkAgg'"
     },
     "execution_count": 24,
     "metadata": {},
     "output_type": "execute_result"
    }
   ],
   "source": [
    "matplotlib.get_backend()"
   ],
   "metadata": {
    "collapsed": false,
    "pycharm": {
     "name": "#%%\n"
    }
   }
  },
  {
   "cell_type": "markdown",
   "source": [
    "# Image lines segmentation"
   ],
   "metadata": {
    "collapsed": false
   }
  },
  {
   "cell_type": "markdown",
   "source": [
    "Find the edges of the image (i.e. the edges of the single lines).\n"
   ],
   "metadata": {
    "collapsed": false
   }
  },
  {
   "cell_type": "code",
   "execution_count": 56,
   "outputs": [],
   "source": [
    "def get_line(img, dr):\n",
    "    img = cv.imread(img)\n",
    "    grey = cv.cvtColor(img, cv.COLOR_BGR2GRAY)\n",
    "    contours, hierarchy = cv.findContours(grey, cv.RETR_EXTERNAL, cv.CHAIN_APPROX_NONE)\n",
    "    line_num = len(contours)\n",
    "    print(\"Number of line elements found: \" + str(line_num))\n",
    "\n",
    "    for x in range(len(contours)):\n",
    "        #selecting line x of those detected\n",
    "        bb = contours[x]\n",
    "        #creating a stencil of the original image\n",
    "        #1. preparing the black background image;\n",
    "        stencil = np.zeros(img.shape).astype(img.dtype)\n",
    "        #2. set into an array the actual contours of the 'line element';\n",
    "        cont = [np.array(bb)]\n",
    "        #3. fill the contours with white color (i.e. [255, 255, 255]);\n",
    "        line = cv.fillPoly(stencil, cont, color=(255, 255, 255))\n",
    "\n",
    "        #_._._Saving step\n",
    "        dr = './' + str(dr) + '/'\n",
    "        filename = dr + 'line' + str(x) + '.png'\n",
    "        cv.imwrite(filename, line)\n",
    "\n",
    "    return (line_num)"
   ],
   "metadata": {
    "collapsed": false,
    "pycharm": {
     "name": "#%%\n"
    }
   }
  },
  {
   "cell_type": "code",
   "execution_count": 47,
   "outputs": [],
   "source": [
    "#dumb fun to count the num of .png file on a directory\n",
    "def elements(dr):\n",
    "    count = 0\n",
    "    for x in os.listdir(dr):\n",
    "        if x.endswith(\".png\"):\n",
    "            count += 1\n",
    "    return (count)"
   ],
   "metadata": {
    "collapsed": false,
    "pycharm": {
     "name": "#%%\n"
    }
   }
  },
  {
   "cell_type": "markdown",
   "source": [
    "# Intersection over Union"
   ],
   "metadata": {
    "collapsed": false
   }
  },
  {
   "cell_type": "code",
   "execution_count": 82,
   "outputs": [],
   "source": [
    "#Defining a function to calculate IoU on the fly\n",
    "def IoU(l1, l2):\n",
    "    intersection = np.logical_and(l1, l2)\n",
    "    union = np.logical_or(l1, l2)\n",
    "    iou_score = np.sum(intersection) / np.sum(union)\n",
    "    return (iou_score)"
   ],
   "metadata": {
    "collapsed": false,
    "pycharm": {
     "name": "#%%\n"
    }
   }
  },
  {
   "cell_type": "markdown",
   "source": [
    "# Recall and Percision"
   ],
   "metadata": {
    "collapsed": false
   }
  },
  {
   "cell_type": "markdown",
   "source": [
    "Procedure: https://www.jeremyjordan.me/evaluating-image-segmentation-models/"
   ],
   "metadata": {
    "collapsed": false
   }
  },
  {
   "cell_type": "code",
   "execution_count": 109,
   "outputs": [],
   "source": [
    "def recall(gt, prd):\n",
    "\n",
    "    #setting variables\n",
    "    score = []\n",
    "    TP = 0\n",
    "    FN = 0\n",
    "    threshold = .45\n",
    "    dir1 = Path(gt).glob('*.png')\n",
    "    dir2 = Path(prd).glob('*.png')\n",
    "\n",
    "    #number of lines detected on the gt image\n",
    "    gtn = sum(1 for _ in dir1)\n",
    "    #number of lines detected on the pred image\n",
    "    pn = sum(1 for _ in dir2)\n",
    "    xtr_ln = abs(pn - gtn)\n",
    "    print('gt lines: ' + str(gtn))\n",
    "    print('prd lines: ' + str(pn))\n",
    "\n",
    "    #Iterating through the gt lines found\n",
    "    for idx, img in enumerate(os.listdir(gt)):\n",
    "        if (img.endswith(\".png\")):\n",
    "            image1 = cv.imread(gt + img)\n",
    "\n",
    "            print(idx, idx, img)\n",
    "\n",
    "            #Iterating through the prd lines found\n",
    "            for idx2, img2 in enumerate(os.listdir(prd)):\n",
    "                if (img2.endswith(\".png\")):\n",
    "                    image2 = Image.open(prd + img2)\n",
    "\n",
    "                    #print(idx2, img2)\n",
    "\n",
    "                    score.append(IoU(image1, image2))\n",
    "\n",
    "            #Calculating FP and FN through predefined threshold\n",
    "            if max(score) > threshold:\n",
    "                TP += 1\n",
    "            else:\n",
    "                FN += 1\n",
    "            score = []\n",
    "\n",
    "    Rec = TP / (TP + FN)\n",
    "\n",
    "    #out = \"Recall score: \" + str(Rec)\n",
    "\n",
    "    return (Rec)"
   ],
   "metadata": {
    "collapsed": false,
    "pycharm": {
     "name": "#%%\n"
    }
   }
  },
  {
   "cell_type": "code",
   "execution_count": 110,
   "outputs": [],
   "source": [
    "def precision(gt, prd):\n",
    "\n",
    "    #setting variables\n",
    "    score = []\n",
    "    TP = 0\n",
    "    FP = 0\n",
    "    threshold = .45\n",
    "    dir1 = Path(gt).glob('*.png')\n",
    "    dir2 = Path(prd).glob('*.png')\n",
    "\n",
    "    #number of lines detected on the gt image\n",
    "    gtn = sum(1 for _ in dir1)\n",
    "    #number of lines detected on the pred image\n",
    "    pn = sum(1 for _ in dir2)\n",
    "    print('gt lines: ' + str(gtn))\n",
    "    print('prd lines: ' + str(pn))\n",
    "\n",
    "    #Iterating through the gt lines found\n",
    "    for idx, img in enumerate(os.listdir(prd)):\n",
    "        if (img.endswith(\".png\")):\n",
    "            image1 = cv.imread(prd + img)\n",
    "\n",
    "            print(idx, idx, img)\n",
    "\n",
    "            #Iterating through the prd lines found\n",
    "            for idx2, img2 in enumerate(os.listdir(gt)):\n",
    "                if (img2.endswith(\".png\")):\n",
    "                    image2 = Image.open(gt + img2)\n",
    "\n",
    "                    #print(idx2, img2)\n",
    "\n",
    "                    score.append(IoU(image1, image2))\n",
    "\n",
    "            #Calculating FP and FN through predefined threshold\n",
    "            if max(score) > threshold:\n",
    "                TP += 1\n",
    "            else:\n",
    "                FP += 1\n",
    "            score = []\n",
    "\n",
    "    Precision = TP / (TP + FP)\n",
    "\n",
    "    #out = \"Precision score: \" + str(Precision)\n",
    "\n",
    "    return (Precision)"
   ],
   "metadata": {
    "collapsed": false,
    "pycharm": {
     "name": "#%%\n"
    }
   }
  },
  {
   "cell_type": "code",
   "execution_count": 101,
   "outputs": [],
   "source": [
    "def get_fname(dir):\n",
    "    filename = dir.split('/')\n",
    "    filename = filename[-1]\n",
    "    return(filename)"
   ],
   "metadata": {
    "collapsed": false,
    "pycharm": {
     "name": "#%%\n"
    }
   }
  },
  {
   "cell_type": "markdown",
   "source": [
    "# Main"
   ],
   "metadata": {
    "collapsed": false
   }
  },
  {
   "cell_type": "code",
   "execution_count": 118,
   "outputs": [],
   "source": [
    "import os\n",
    "import glob\n",
    "\n",
    "def main():\n",
    "\n",
    "    n=0\n",
    "    rec=0\n",
    "    prec=0\n",
    "    direc= os.getcwd()\n",
    "\n",
    "    for img in glob.glob(direc + '/gt/*.png'):\n",
    "        store_r=0\n",
    "        store_p=0\n",
    "        for img2 in glob.glob(direc + '/output/*.png'):\n",
    "            if get_fname(img) == get_fname(img2):\n",
    "              #_._.create working folders\n",
    "              os.mkdir(direc + '/linegt')\n",
    "              os.mkdir(direc + '/lineprd')\n",
    "              get_line(img, 'linegt')\n",
    "              get_line(img2, 'lineprd')\n",
    "              lin_gt = direc + '/linegt/'\n",
    "              lin_prd = direc + '/lineprd/'\n",
    "              store_r = recall(lin_gt, lin_prd)\n",
    "              rec = rec + store_r\n",
    "              print('Recall: ' + str(store_r))\n",
    "              store_p = precision(lin_gt, lin_prd)\n",
    "              prec = prec + store_p\n",
    "              print('Precision: ' + str(store_p))\n",
    "              n+=1\n",
    "              #_._.remove working folders\n",
    "              shutil.rmtree(direc + '/linegt')\n",
    "              shutil.rmtree(direc + '/lineprd')\n",
    "\n",
    "    rec_mean = rec/n\n",
    "    prec_mean = prec/n\n",
    "    reca='\\n\\nRecall mean over '+ str(n) + ' documents: '+ str(rec_mean)\n",
    "    preci= '\\n\\nPrecision mean over '+ str(n) + ' documents: '+ str(prec_mean)\n",
    "    out = reca + preci\n",
    "    print(out)\n",
    "    return ()"
   ],
   "metadata": {
    "collapsed": false,
    "pycharm": {
     "name": "#%%\n"
    }
   }
  },
  {
   "cell_type": "code",
   "execution_count": 117,
   "outputs": [
    {
     "name": "stdout",
     "output_type": "stream",
     "text": [
      "Number of line elements found: 72\n",
      "Number of line elements found: 81\n",
      "gt lines: 72\n",
      "prd lines: 81\n",
      "0 0 line40.png\n",
      "1 1 line54.png\n",
      "2 2 line68.png\n",
      "3 3 line1.png\n",
      "4 4 line0.png\n",
      "5 5 line69.png\n",
      "6 6 line55.png\n",
      "7 7 line41.png\n",
      "8 8 line57.png\n",
      "9 9 line43.png\n",
      "10 10 line2.png\n",
      "11 11 line3.png\n",
      "12 12 line42.png\n",
      "13 13 line56.png\n",
      "14 14 line52.png\n",
      "15 15 line46.png\n",
      "16 16 line7.png\n",
      "17 17 line6.png\n",
      "18 18 line47.png\n",
      "19 19 line53.png\n",
      "20 20 line45.png\n",
      "21 21 line51.png\n",
      "22 22 line4.png\n",
      "23 23 line5.png\n",
      "24 24 line50.png\n",
      "25 25 line44.png\n",
      "26 26 line23.png\n",
      "27 27 line37.png\n",
      "28 28 line36.png\n",
      "29 29 line22.png\n",
      "30 30 line34.png\n",
      "31 31 line20.png\n",
      "32 32 line21.png\n",
      "33 33 line35.png\n",
      "34 34 line19.png\n",
      "35 35 line31.png\n",
      "36 36 line25.png\n",
      "37 37 line24.png\n",
      "38 38 line30.png\n",
      "39 39 line18.png\n",
      "40 40 line26.png\n",
      "41 41 line32.png\n",
      "42 42 line33.png\n",
      "43 43 line27.png\n",
      "44 44 line16.png\n",
      "45 45 line17.png\n",
      "46 46 line15.png\n",
      "47 47 line29.png\n",
      "48 48 line28.png\n",
      "49 49 line14.png\n",
      "50 50 line38.png\n",
      "51 51 line10.png\n",
      "52 52 line11.png\n",
      "53 53 line39.png\n",
      "54 54 line13.png\n",
      "55 55 line12.png\n",
      "56 56 line61.png\n",
      "57 57 line49.png\n",
      "58 58 line8.png\n",
      "59 59 line9.png\n",
      "60 60 line48.png\n",
      "61 61 line60.png\n",
      "62 62 line62.png\n",
      "63 63 line63.png\n",
      "64 64 line67.png\n",
      "65 65 line66.png\n",
      "66 66 line58.png\n",
      "67 67 line64.png\n",
      "68 68 line70.png\n",
      "69 69 line71.png\n",
      "70 70 line65.png\n",
      "71 71 line59.png\n",
      "Recall: 0.9166666666666666\n",
      "gt lines: 72\n",
      "prd lines: 81\n",
      "0 0 line40.png\n",
      "1 1 line54.png\n",
      "2 2 line68.png\n",
      "3 3 line1.png\n",
      "4 4 line0.png\n",
      "5 5 line69.png\n",
      "6 6 line55.png\n",
      "7 7 line41.png\n",
      "8 8 line57.png\n",
      "9 9 line43.png\n",
      "10 10 line80.png\n",
      "11 11 line2.png\n",
      "12 12 line3.png\n",
      "13 13 line42.png\n",
      "14 14 line56.png\n",
      "15 15 line52.png\n",
      "16 16 line46.png\n",
      "17 17 line7.png\n",
      "18 18 line6.png\n",
      "19 19 line47.png\n",
      "20 20 line53.png\n",
      "21 21 line79.png\n",
      "22 22 line45.png\n",
      "23 23 line51.png\n",
      "24 24 line4.png\n",
      "25 25 line5.png\n",
      "26 26 line50.png\n",
      "27 27 line44.png\n",
      "28 28 line78.png\n",
      "29 29 line23.png\n",
      "30 30 line37.png\n",
      "31 31 line36.png\n",
      "32 32 line22.png\n",
      "33 33 line34.png\n",
      "34 34 line20.png\n",
      "35 35 line21.png\n",
      "36 36 line35.png\n",
      "37 37 line19.png\n",
      "38 38 line31.png\n",
      "39 39 line25.png\n",
      "40 40 line24.png\n",
      "41 41 line30.png\n",
      "42 42 line18.png\n",
      "43 43 line26.png\n",
      "44 44 line32.png\n",
      "45 45 line33.png\n",
      "46 46 line27.png\n",
      "47 47 line16.png\n",
      "48 48 line17.png\n",
      "49 49 line15.png\n",
      "50 50 line29.png\n",
      "51 51 line28.png\n",
      "52 52 line14.png\n",
      "53 53 line38.png\n",
      "54 54 line10.png\n",
      "55 55 line11.png\n",
      "56 56 line39.png\n",
      "57 57 line13.png\n",
      "58 58 line12.png\n",
      "59 59 line61.png\n",
      "60 60 line75.png\n",
      "61 61 line49.png\n",
      "62 62 line8.png\n",
      "63 63 line9.png\n",
      "64 64 line48.png\n",
      "65 65 line74.png\n",
      "66 66 line60.png\n",
      "67 67 line76.png\n",
      "68 68 line62.png\n",
      "69 69 line63.png\n",
      "70 70 line77.png\n",
      "71 71 line73.png\n",
      "72 72 line67.png\n",
      "73 73 line66.png\n",
      "74 74 line72.png\n",
      "75 75 line58.png\n",
      "76 76 line64.png\n",
      "77 77 line70.png\n",
      "78 78 line71.png\n",
      "79 79 line65.png\n",
      "80 80 line59.png\n",
      "Precision: 0.8148148148148148\n",
      "Recall mean over 1 documents: 0.9166666666666666\n",
      "\n",
      "Precision mean over 1 documents: 0.8148148148148148\n"
     ]
    }
   ],
   "source": [
    "if __name__ == \"__main__\":\n",
    "    main()"
   ],
   "metadata": {
    "collapsed": false,
    "pycharm": {
     "name": "#%%\n"
    }
   }
  },
  {
   "cell_type": "code",
   "execution_count": null,
   "outputs": [],
   "source": [],
   "metadata": {
    "collapsed": false,
    "pycharm": {
     "name": "#%%\n"
    }
   }
  }
 ],
 "metadata": {
  "kernelspec": {
   "display_name": "Python 3",
   "language": "python",
   "name": "python3"
  },
  "language_info": {
   "codemirror_mode": {
    "name": "ipython",
    "version": 2
   },
   "file_extension": ".py",
   "mimetype": "text/x-python",
   "name": "python",
   "nbconvert_exporter": "python",
   "pygments_lexer": "ipython2",
   "version": "2.7.6"
  }
 },
 "nbformat": 4,
 "nbformat_minor": 0
}