{
 "cells": [
  {
   "cell_type": "code",
   "execution_count": 40,
   "id": "ed5c1d36",
   "metadata": {},
   "outputs": [],
   "source": [
    "# pip3 install opencv-python numpy matplotlib\n",
    "import cv2 as cv\n",
    "import numpy as np\n",
    "from PIL import Image\n",
    "from matplotlib import pyplot as plt\n",
    "import os\n",
    "from scipy.signal import find_peaks\n",
    "\n"
   ]
  },
  {
   "cell_type": "code",
   "execution_count": 41,
   "id": "342e3881",
   "metadata": {},
   "outputs": [],
   "source": [
    "import cv2\n",
    "import numpy as np\n",
    "\n",
    "#identify paragraps\n",
    "# Load image, grayscale, Gaussian blur, Otsu's threshold\n",
    "def contourFinder(img_path):\n",
    "    contour = []\n",
    "    image_orig = cv2.imread(img_path)\n",
    "    gray = cv2.cvtColor(image_orig, cv2.COLOR_BGR2GRAY)\n",
    "    blur = cv2.GaussianBlur(gray, (7,7), 0)\n",
    "    thresh = cv2.threshold(blur, 0, 255, cv2.THRESH_BINARY_INV + cv2.THRESH_OTSU)[1]\n",
    "\n",
    "# Create rectangular structuring element and dilate\n",
    "    kernel = cv2.getStructuringElement(cv2.MORPH_RECT, (5,5))\n",
    "    dilate = cv2.dilate(thresh, kernel, iterations=4)\n",
    "\n",
    "# Find contours and draw rectangle\n",
    "    cnts = cv2.findContours(dilate, cv2.RETR_EXTERNAL, cv2.CHAIN_APPROX_SIMPLE)\n",
    "    cnts = cnts[0] if len(cnts) == 2 else cnts[1]\n",
    "\n",
    "    cropped = [];\n",
    "    for c in cnts:\n",
    "        x,y,w,h = cv2.boundingRect(c)\n",
    "    \n",
    "        if (w*h < 40*40):\n",
    "            continue\n",
    "        if(len(cnts) > 1 and x == 0 and y==0 and w>=image_orig.shape[1] and h>=image_orig.shape[0]):\n",
    "            continue\n",
    "        contour.append(c)\n",
    "        cropped.append(image_orig[y:y+h, x:x+w])\n",
    "        cv2.rectangle(image_orig, (x, y), (x + w, y + h), (15,100,10), 2)\n",
    "    \n",
    "#cv2.imshow('thresh', thresh)\n",
    "#cv2.imshow('dilate', dilate)\n",
    "#cv2.imshow('image', image_orig)\n",
    "    i=0\n",
    "    for k in cropped:\n",
    "        cv2.imwrite('cropped/cropped_image' + str(i) +'.png', k)\n",
    "        i= i+1\n",
    "    cv2.waitKey()\n",
    "    return [i, contour]"
   ]
  },
  {
   "cell_type": "code",
   "execution_count": 42,
   "id": "ef1ce03a",
   "metadata": {},
   "outputs": [],
   "source": [
    "def blackAndWhite(file):\n",
    "    img = cv2.imread(file)\n",
    "    img= cv2.cvtColor(img, cv2.COLOR_BGR2GRAY)\n",
    "    height, width, *rest= img.shape\n",
    "\n",
    "    for i in range(height):\n",
    "        for j in range(width):\n",
    "            if img[i, j] == 0:\n",
    "                img[i, j] =255\n",
    "            else:\n",
    "                img[i, j] = 0\n",
    "    return img"
   ]
  },
  {
   "cell_type": "code",
   "execution_count": 43,
   "id": "c923fcf4",
   "metadata": {},
   "outputs": [],
   "source": [
    "def calculateYProjection(array):\n",
    "    img_row_sum = []\n",
    "    for i in range(len(array)):\n",
    "        img_row_sum.append(np.sum(array[i],axis=1).tolist())\n",
    "    return img_row_sum"
   ]
  },
  {
   "cell_type": "code",
   "execution_count": 44,
   "id": "01906ff6",
   "metadata": {},
   "outputs": [],
   "source": [
    "def calculatePeaks(array):\n",
    "    peaks_of_image = []\n",
    "    for i in range(len(array)):\n",
    "        x =array[i]\n",
    "        peaks, _ = find_peaks(x, distance=15)\n",
    "        peaks_of_image.append(peaks)\n",
    "    return peaks_of_image"
   ]
  },
  {
   "cell_type": "code",
   "execution_count": 51,
   "id": "bd28952e",
   "metadata": {},
   "outputs": [],
   "source": [
    "def makeLines(array, peaks_image):\n",
    "    images = array  \n",
    "    for k,image in enumerate(array):\n",
    "        newImage = image.copy()\n",
    "        height, width= newImage.shape\n",
    "        for i in range(height):\n",
    "            if(i in peaks_image[k]):\n",
    "                for j in range(width):\n",
    "                    try:\n",
    "                        newImage[i,j] = 255\n",
    "                        newImage[i-1,j] = 255\n",
    "                        newImage[i+1,j] = 255\n",
    "                        newImage[i-2,j] = 255\n",
    "                        newImage[i+2,j] = 255\n",
    "                        newImage[i-3,j] = 255\n",
    "                        newImage[i+3,j] = 255\n",
    "                    except Exception as e:\n",
    "                        continue\n",
    "                        print(\"out of boundaries\")\n",
    "        plt.imshow(newImage, cmap='Greys_r')\n",
    "        cv2.imwrite('linesdetected/cropped_image' + str(k) +'.png', newImage)"
   ]
  },
  {
   "cell_type": "code",
   "execution_count": 52,
   "id": "8caa54bd",
   "metadata": {},
   "outputs": [],
   "source": [
    "def assembleImage(original_image_size , contours, filename):\n",
    "\n",
    "    img = Image.new('RGB', original_image_size[::-1] )\n",
    "    plt.imshow(img, cmap='Greys_r')\n",
    "    for idx, c in enumerate(contours):\n",
    "        x,y,w,h = cv2.boundingRect(c)\n",
    "        cr= Image.open('linesdetected/cropped_image' + str(idx) +'.png')\n",
    "        plt.imshow(cr,cmap='Greys_r' )\n",
    "        img.paste(cr, (x,y))\n",
    "    img.save(\"output/\" + filename[:-4] + \"predicted.png\")"
   ]
  },
  {
   "cell_type": "code",
   "execution_count": 53,
   "id": "34e24de3",
   "metadata": {},
   "outputs": [
    {
     "data": {
      "image/png": "[encoded data removed]",
      "text/plain": [
       "<Figure size 432x288 with 1 Axes>"
      ]
     },
     "metadata": {
      "needs_background": "light"
     },
     "output_type": "display_data"
    }
   ],
   "source": [
    "import os\n",
    "import glob\n",
    "direc= os.getcwd()\n",
    "for img in glob.glob(direc + '/images' + '/*binarized*.jpg'):\n",
    "    image_orig = cv2.imread(img)\n",
    "    number_of_images, contours = contourFinder(img)\n",
    "\n",
    "    array = []\n",
    "    img_row_sum = []\n",
    "    peaks_image = []\n",
    "\n",
    "\n",
    "    for filename in glob.glob(direc + '/cropped' + '/*.png'):\n",
    "        array.append(blackAndWhite(filename))\n",
    "    \n",
    "    img_row_sum = calculateYProjection(array)  \n",
    "\n",
    "    peaks_image= calculatePeaks(img_row_sum)\n",
    "\n",
    "    makeLines(array, peaks_image)\n",
    "\n",
    "    k =image_orig.shape[:-1]\n",
    "    assembleImage(k, contours, img.split(\"\\\\\")[-1])\n"
   ]
  },
  {
   "cell_type": "code",
   "execution_count": null,
   "id": "11bc6723",
   "metadata": {},
   "outputs": [],
   "source": []
  },
  {
   "cell_type": "code",
   "execution_count": null,
   "id": "e7d5e936",
   "metadata": {},
   "outputs": [],
   "source": []
  },
  {
   "cell_type": "code",
   "execution_count": null,
   "id": "5408a4fc",
   "metadata": {},
   "outputs": [],
   "source": [
    "# Source: https://medium.com/analytics-vidhya/binarization-of-image-using-numpy-65df2b82e189\n",
    "def read_this(image_file, gray_scale=False):\n",
    "    image_src = cv.imread(image_file)\n",
    "    if gray_scale:\n",
    "        image_src = cv.cvtColor(image_src, cv.COLOR_BGR2GRAY)\n",
    "    else:\n",
    "        image_src = cv.cvtColor(image_src, cv.COLOR_BGR2RGB)\n",
    "    return image_src"
   ]
  },
  {
   "cell_type": "code",
   "execution_count": null,
   "id": "5b646b64",
   "metadata": {},
   "outputs": [],
   "source": [
    "def ApplyOtsu(image_file, thresh_val=127, gray_scale=True):\n",
    "    image_src = read_this(image_file=image_file, gray_scale=gray_scale)\n",
    "    #blur = cv.GaussianBlur(image_src,(5,5),0)\n",
    "    th, image_b = cv.threshold(image_src, 127, 255, cv.THRESH_BINARY+ cv.THRESH_OTSU)\n",
    "    return Image.fromarray(image_b)"
   ]
  },
  {
   "cell_type": "code",
   "execution_count": null,
   "id": "98547aff",
   "metadata": {},
   "outputs": [],
   "source": [
    "def save_image(image, old_name, dir):\n",
    "    if('_binarized' not in old_name):\n",
    "        index = dir.find('.jpg')\n",
    "        final_string = dir[:index] + '_binarized' + dir[index:]\n",
    "        image.save(final_string)\n",
    "    \n",
    "\n",
    "def main():\n",
    "    dir = os.getcwd()\n",
    "    try:\n",
    "        #assuming this file is one directory upper than images\n",
    "        directory = os.fsencode(dir + '/images/')\n",
    "        for file in os.listdir(directory):\n",
    "            filename = os.fsdecode(file)\n",
    "            if filename.endswith(\".jpg\"):\n",
    "                image_dir = dir + '/images/' + filename\n",
    "                binarized_image = ApplyOtsu(image_file=image_dir)\n",
    "                save_image(binarized_image, filename, image_dir)\n",
    "            else:\n",
    "                continue\n",
    "                \n",
    "    except Exception as e:\n",
    "        print(e)\n",
    "\n",
    "if __name__ == \"__main__\":\n",
    "    main()  "
   ]
  },
  {
   "cell_type": "code",
   "execution_count": null,
   "id": "4e6817d3",
   "metadata": {},
   "outputs": [],
   "source": [
    "import cv2\n",
    "import numpy as np\n",
    "contour = []\n",
    "#identify paragraps\n",
    "# Load image, grayscale, Gaussian blur, Otsu's threshold\n",
    "def contourFinder(img_path):\n",
    "\n",
    "    image_orig = cv2.imread(img_path)\n",
    "    gray = cv2.cvtColor(image_orig, cv2.COLOR_BGR2GRAY)\n",
    "    blur = cv2.GaussianBlur(gray, (7,7), 0)\n",
    "    thresh = cv2.threshold(blur, 0, 255, cv2.THRESH_BINARY_INV + cv2.THRESH_OTSU)[1]\n",
    "\n",
    "# Create rectangular structuring element and dilate\n",
    "    kernel = cv2.getStructuringElement(cv2.MORPH_RECT, (5,5))\n",
    "    dilate = cv2.dilate(thresh, kernel, iterations=4)\n",
    "\n",
    "# Find contours and draw rectangle\n",
    "    cnts = cv2.findContours(dilate, cv2.RETR_EXTERNAL, cv2.CHAIN_APPROX_SIMPLE)\n",
    "    cnts = cnts[0] if len(cnts) == 2 else cnts[1]\n",
    "\n",
    "    cropped = [];\n",
    "    for c in cnts:\n",
    "        x,y,w,h = cv2.boundingRect(c)\n",
    "    \n",
    "        if (w*h < 40*40):\n",
    "            continue\n",
    "        if(len(cnts) > 1 and x == 0 and y==0 and w>=image_orig.shape[1] and h>=image_orig.shape[0]):\n",
    "            continue\n",
    "        contour.append(c)\n",
    "        cropped.append(image_orig[y:y+h, x:x+w])\n",
    "        cv2.rectangle(image_orig, (x, y), (x + w, y + h), (15,100,10), 2)\n",
    "    \n",
    "#cv2.imshow('thresh', thresh)\n",
    "#cv2.imshow('dilate', dilate)\n",
    "#cv2.imshow('image', image_orig)\n",
    "    i=0\n",
    "    for k in cropped:\n",
    "        cv2.imwrite('cropped/cropped_image' + str(i) +'.png', k)\n",
    "        i= i+1\n",
    "    cv2.waitKey()\n",
    "    return i"
   ]
  },
  {
   "cell_type": "code",
   "execution_count": null,
   "id": "16e6d3b9",
   "metadata": {},
   "outputs": [],
   "source": [
    "contourFinder(\"images/fmb-cb-55-050v_binarized.jpg\")"
   ]
  },
  {
   "cell_type": "code",
   "execution_count": null,
   "id": "1ae7f7f1",
   "metadata": {},
   "outputs": [],
   "source": [
    "print(len(contour))"
   ]
  },
  {
   "cell_type": "code",
   "execution_count": null,
   "id": "ed77eeed",
   "metadata": {},
   "outputs": [],
   "source": [
    "import cv2\n",
    "import numpy as np\n",
    "#identify paragraps\n",
    "# Load image, grayscale, Gaussian blur, Otsu's threshold\n",
    "image_orig = cv2.imread('./images/fmb-cb-55-027v_binarized.jpg')\n",
    "gray = cv2.cvtColor(image_orig, cv2.COLOR_BGR2GRAY)\n",
    "blur = cv2.GaussianBlur(gray, (7,7), 0)\n",
    "thresh = cv2.threshold(blur, 0, 255, cv2.THRESH_BINARY_INV + cv2.THRESH_OTSU)[1]\n",
    "\n",
    "# Create rectangular structuring element and dilate\n",
    "kernel = cv2.getStructuringElement(cv2.MORPH_RECT, (5,5))\n",
    "dilate = cv2.dilate(thresh, kernel, iterations=4)\n",
    "\n",
    "# Find contours and draw rectangle\n",
    "cnts = cv2.findContours(dilate, cv2.RETR_EXTERNAL, cv2.CHAIN_APPROX_SIMPLE)\n",
    "cnts = cnts[0] if len(cnts) == 2 else cnts[1]\n",
    "\n",
    "cropped = [];\n",
    "for c in cnts:\n",
    "    x,y,w,h = cv2.boundingRect(c)\n",
    "    \n",
    "    if (w*h < 40*40):\n",
    "        continue\n",
    "    if(len(cnts) > 1 and x == 0 and y==0 and w>=image_orig.shape[1] and h>=image_orig.shape[0]):\n",
    "        continue\n",
    "\n",
    "    cropped.append(image_orig[y:y+h, x:x+w])\n",
    "    cv2.rectangle(image_orig, (x, y), (x + w, y + h), (15,100,10), 2)\n",
    "    \n",
    "#cv2.imshow('thresh', thresh)\n",
    "#cv2.imshow('dilate', dilate)\n",
    "#cv2.imshow('image', image_orig)\n",
    "i=0\n",
    "for k in cropped:\n",
    "    cv2.imwrite('cropped/cropped_image' + str(i) +'.png', k)\n",
    "    i= i+1\n",
    "cv2.waitKey()"
   ]
  },
  {
   "cell_type": "code",
   "execution_count": null,
   "id": "20546df6",
   "metadata": {},
   "outputs": [],
   "source": []
  },
  {
   "cell_type": "code",
   "execution_count": null,
   "id": "901c1d19",
   "metadata": {},
   "outputs": [],
   "source": [
    "\n",
    "import os\n",
    "import glob\n",
    "images = []\n",
    "direc= os.getcwd()\n",
    "for filename in glob.glob(direc + '/cropped' + '/*.png'):\n",
    "    image1 = cv2.imread(filename)\n",
    "    print(\"hi\")\n",
    "    print(image1)\n",
    "    grayImage= cv2.cvtColor(image1, cv2.COLOR_BGR2GRAY)\n",
    "#plt.imshow(grayImage)\n",
    "    GaussianFilter= cv2.GaussianBlur(grayImage, (5,5), 0)\n",
    "    _, binarizedImage = cv2.threshold(GaussianFilter, 127, 255, cv2.THRESH_BINARY)\n",
    "    plt.figure()\n",
    "    plt.imshow(binarizedImage, cmap='Greys_r')\n",
    "    height, width= binarizedImage.shape\n",
    "\n",
    "    for i in range(height):\n",
    "        for j in range(width):\n",
    "        # img[i, j] is the RGB pixel at position (i, j)\n",
    "        # check if it's [0, 0, 0] and replace with [255, 255, 255] if so\n",
    "            if binarizedImage[i, j] == 0:\n",
    "                binarizedImage[i, j] =255\n",
    "            else:\n",
    "                binarizedImage[i, j] = 0\n",
    "    images.append(binarizedImage)\n",
    "    plt.imshow(binarizedImage, cmap='Greys_r')          "
   ]
  },
  {
   "cell_type": "code",
   "execution_count": null,
   "id": "1e009b15",
   "metadata": {},
   "outputs": [],
   "source": []
  },
  {
   "cell_type": "code",
   "execution_count": null,
   "id": "a350e57a",
   "metadata": {},
   "outputs": [],
   "source": [
    "\n",
    "img_row_sum = []\n",
    "for i in range(len(images)):\n",
    "    img_row_sum.append(np.sum(images[i],axis=1).tolist())\n",
    "    #plt.figure(figsize=(5,5))\n",
    "    #plt.show()\n"
   ]
  },
  {
   "cell_type": "code",
   "execution_count": null,
   "id": "868bdeae",
   "metadata": {},
   "outputs": [],
   "source": [
    "\n"
   ]
  },
  {
   "cell_type": "code",
   "execution_count": null,
   "id": "6fb65c27",
   "metadata": {},
   "outputs": [],
   "source": [
    "#print(peaks_image)"
   ]
  },
  {
   "cell_type": "code",
   "execution_count": null,
   "id": "9f86a0de",
   "metadata": {},
   "outputs": [],
   "source": [
    "for k in range(len(images)):\n",
    "    newImage = images[k].copy()\n",
    "    height, width= newImage.shape\n",
    "    print(newImage.shape)\n",
    "    for i in range(height):\n",
    "        if(i in peaks_image[k]):\n",
    "            for j in range(width):\n",
    "                newImage[i,j] = 255\n",
    "                newImage[i-1,j] = 255\n",
    "                newImage[i+1,j] = 255\n",
    "                newImage[i-2,j] = 255\n",
    "                newImage[i+2,j] = 255\n",
    "                newImage[i-3,j] = 255\n",
    "                newImage[i+3,j] = 255\n",
    "    plt.imshow(newImage, cmap='Greys_r')\n",
    "    cv2.imwrite('linesdetected/cropped_image' + str(k) +'.png', newImage)\n",
    "        "
   ]
  },
  {
   "cell_type": "code",
   "execution_count": null,
   "id": "a374e979",
   "metadata": {},
   "outputs": [],
   "source": [
    "print(image_orig.shape[:-1])"
   ]
  },
  {
   "cell_type": "code",
   "execution_count": null,
   "id": "2b504cdd",
   "metadata": {},
   "outputs": [],
   "source": [
    "print(len(cnts))"
   ]
  },
  {
   "cell_type": "code",
   "execution_count": null,
   "id": "73073490",
   "metadata": {},
   "outputs": [],
   "source": [
    "k =image_orig.shape[:-1]\n",
    "\n",
    "img = Image.new('RGB', k[::-1] )\n",
    "plt.imshow(img, cmap='Greys_r')\n",
    "for idx, c in enumerate(contour):\n",
    "    x,y,w,h = cv2.boundingRect(c)\n",
    "    cr= Image.open('linesdetected/cropped_image' + str(idx) +'.png')\n",
    "    plt.imshow(cr,cmap='Greys_r' )\n",
    "    img.paste(cr, (x,y))\n",
    "img.save(\"pasted.grid.png\")"
   ]
  },
  {
   "cell_type": "code",
   "execution_count": null,
   "id": "fcc6ad39",
   "metadata": {},
   "outputs": [],
   "source": [
    "image = cv2.imread('cropped_image4.png')"
   ]
  },
  {
   "cell_type": "code",
   "execution_count": null,
   "id": "66995761",
   "metadata": {},
   "outputs": [],
   "source": [
    "\n",
    "cv2.imshow(\"cropped\", crop_img)\n",
    "cv2.waitKey(0)\n",
    "crop_img= cv2.cvtColor(crop_img, cv2.COLOR_BGR2GRAY)"
   ]
  },
  {
   "cell_type": "code",
   "execution_count": null,
   "id": "b9781080",
   "metadata": {},
   "outputs": [],
   "source": [
    "import cv2\n",
    "import numpy as np\n",
    "\n",
    "# read image\n",
    "img = cv2.imread(\"cropped_image4.png\")\n",
    "img = img[65:75, :].copy()\n",
    "\n",
    "# convert img to grayscale\n",
    "gray = cv2.cvtColor(img, cv2.COLOR_BGR2GRAY)\n",
    "\n",
    "# invert polarity\n",
    "gray = 255 - gray\n",
    "\n",
    "# do adaptive threshold on gray image\n",
    "thresh = cv2.threshold(gray,0,255,cv2.THRESH_BINARY)[1]\n",
    "\n",
    "# Get contours\n",
    "cnts = cv2.findContours(thresh, cv2.RETR_EXTERNAL, cv2.CHAIN_APPROX_SIMPLE)\n",
    "cnts = cnts[0] if len(cnts) == 2 else cnts[1]\n",
    "i = 1\n",
    "for c in cnts:\n",
    "    # create white image\n",
    "    result = np.full_like(img, (255,255,255))\n",
    "    # get bounding box\n",
    "    x,y,w,h = cv2.boundingRect(c)\n",
    "    # crop region of img using bounding box\n",
    "    region = img[y:y+h, x:x+w]\n",
    "    # save region to new image\n",
    "    cv2.imwrite(\"black_region_{0}.png\".format(i), region)\n",
    "    i = i + 1\n",
    "\n",
    "\n",
    "# display it\n",
    "#cv2.imshow(\"IMAGE\", img)\n",
    "#cv2.imshow(\"GRAY\", gray)\n",
    "cv2.imshow(\"THRESHOLD\", thresh)\n",
    "cv2.waitKey(0)"
   ]
  },
  {
   "cell_type": "code",
   "execution_count": null,
   "id": "4e2fcb0c",
   "metadata": {},
   "outputs": [],
   "source": [
    "img=thresh\n",
    "ret,gray = cv2.threshold(img,127,255,0)\n",
    "gray2 = gray.copy()\n",
    "mask = np.zeros(gray.shape,np.uint8)"
   ]
  },
  {
   "cell_type": "code",
   "execution_count": null,
   "id": "0bcb2237",
   "metadata": {},
   "outputs": [],
   "source": [
    "contours, hier = cv2.findContours(gray,cv2.RETR_LIST,cv2.CHAIN_APPROX_SIMPLE)\n",
    "for cnt in contours:\n",
    "    if 200<cv2.contourArea(cnt)<5000:\n",
    "        cv2.drawContours(img,[cnt],0,(0,255,0),2)\n",
    "        cv2.drawContours(mask,[cnt],0,255,-1)"
   ]
  },
  {
   "cell_type": "code",
   "execution_count": null,
   "id": "45fd5c33",
   "metadata": {},
   "outputs": [],
   "source": [
    "cv2.imshow('IMG',gray2)\n",
    "cv2.waitKey(0)\n",
    "cv2.destroyAllWindows()"
   ]
  },
  {
   "cell_type": "code",
   "execution_count": null,
   "id": "a882eb8e",
   "metadata": {},
   "outputs": [],
   "source": [
    "GaussianFilter= cv2.GaussianBlur(crop_img, (5,5), 0)\n",
    "_, binarizedImage = cv2.threshold(GaussianFilter, 127, 255, cv2.THRESH_BINARY)"
   ]
  },
  {
   "cell_type": "code",
   "execution_count": null,
   "id": "34c3a677",
   "metadata": {},
   "outputs": [],
   "source": []
  },
  {
   "cell_type": "code",
   "execution_count": null,
   "id": "9c2e56e3",
   "metadata": {},
   "outputs": [],
   "source": [
    "height, width = binarizedImage.shape\n",
    "for i in range(height-1):\n",
    "    for j in range(width-1):\n",
    "        # img[i, j] is the RGB pixel at position (i, j)\n",
    "        # check if it's [0, 0, 0] and replace with [255, 255, 255] if so\n",
    "        if crop_img[i, j] == 0:\n",
    "            crop_img[i, j] =255\n",
    "        else:\n",
    "            crop_img[i, j] = 0\n",
    "plt.imshow(crop_img, cmap='Greys_r')   "
   ]
  },
  {
   "cell_type": "code",
   "execution_count": null,
   "id": "62b78b1a",
   "metadata": {},
   "outputs": [],
   "source": [
    "import matplotlib.pyplot as plt\n",
    "\n",
    "from skimage.morphology import convex_hull_image\n",
    "from skimage import data, img_as_float\n",
    "from skimage.util import invert\n",
    "\n",
    "# The original image is inverted as the object must be white.\n",
    "image = invert(crop_img)\n",
    "\n",
    "#chull = convex_hull_image(image)\n",
    "\n",
    "contours, hier = cv2.findContours(image,cv2.RETR_LIST,cv2.CHAIN_APPROX_SIMPLE)\n",
    "for cnt in contours:\n",
    "    if 200<cv2.contourArea(cnt)<5000:\n",
    "        cv2.drawContours(img,[cnt],0,(0,255,0),2)\n",
    "        cv2.drawContours(mask,[cnt],0,255,-1)"
   ]
  },
  {
   "cell_type": "code",
   "execution_count": null,
   "id": "31af1901",
   "metadata": {},
   "outputs": [],
   "source": [
    "import cv2\n",
    "\n",
    "\n",
    "image= crop_img\n",
    "original_image= image\n",
    "\n",
    "\n",
    "edges= cv2.Canny(original_image, 50,200)\n",
    "\n",
    "\n",
    "contours, hierarchy= cv2.findContours(edges.copy(), cv2.RETR_EXTERNAL, cv2.CHAIN_APPROX_NONE)\n",
    "\n",
    "\n",
    "for cnt in contours:\n",
    "    hull= cv2.convexHull(cnt)\n",
    "    cv2.drawContours(image, [hull],0,(0,255,0),2)\n",
    "    cv2.imshow('Convex Hull', image)\n"
   ]
  },
  {
   "cell_type": "code",
   "execution_count": null,
   "id": "a5a727d1",
   "metadata": {},
   "outputs": [],
   "source": [
    "from scipy.signal import argrelextrema\n",
    "data = np.array(img_row_sum)\n",
    "\n",
    "maximums = argrelextrema(data, np.greater, order =2)\n",
    "\n",
    "print(maximums)\n"
   ]
  },
  {
   "cell_type": "code",
   "execution_count": null,
   "id": "88cbd072",
   "metadata": {},
   "outputs": [],
   "source": []
  },
  {
   "cell_type": "code",
   "execution_count": null,
   "id": "c7da62ee",
   "metadata": {},
   "outputs": [],
   "source": []
  },
  {
   "cell_type": "code",
   "execution_count": null,
   "id": "d95aea8c",
   "metadata": {},
   "outputs": [],
   "source": []
  },
  {
   "cell_type": "code",
   "execution_count": null,
   "id": "d8268f9d",
   "metadata": {},
   "outputs": [],
   "source": []
  },
  {
   "cell_type": "code",
   "execution_count": null,
   "id": "fa5b118c",
   "metadata": {},
   "outputs": [],
   "source": []
  },
  {
   "cell_type": "code",
   "execution_count": null,
   "id": "dfa9cdf9",
   "metadata": {},
   "outputs": [],
   "source": [
    "height, width = binarizedImage.shape\n",
    "print('width : ', width)\n",
    "print('height : ', height)\n",
    "horizontal_projection = np.sum(binarizedImage, axis=1);\n",
    "print(horizontal_projection)"
   ]
  },
  {
   "cell_type": "code",
   "execution_count": null,
   "id": "8d80118a",
   "metadata": {},
   "outputs": [],
   "source": [
    "horizontal_projection = np.sum(image1, axis=1)\n",
    "print(horizontal_projection)\n",
    "print(image1.shape)\n",
    "blankImage = np.zeros((height, width, 3), np.uint8)\n",
    "plt.figure()\n",
    "plt.imshow(blankImage, cmap='Greys_r')\n",
    "for row in range(height):\n",
    "    cv2.line(blankImage, (0,row), (int(horizontal_projection[row]*width/height),row), (255,255,255), 1)"
   ]
  },
  {
   "cell_type": "code",
   "execution_count": null,
   "id": "5186bc73",
   "metadata": {},
   "outputs": [],
   "source": [
    "plt.hist(image1.ravel(), 256, [0,256])\n",
    "plt.show()"
   ]
  },
  {
   "cell_type": "code",
   "execution_count": null,
   "id": "05c10429",
   "metadata": {},
   "outputs": [],
   "source": [
    "img_row_sum = np.sum(image1,axis=1).tolist()\n",
    "\n",
    "plt.plot(img_row_sum)\n",
    "plt.show()"
   ]
  },
  {
   "cell_type": "code",
   "execution_count": null,
   "id": "c97866f8",
   "metadata": {},
   "outputs": [],
   "source": []
  },
  {
   "cell_type": "code",
   "execution_count": null,
   "id": "68ce9dc4",
   "metadata": {},
   "outputs": [],
   "source": [
    "import numpy as np\n",
    "from PIL import Image\n",
    "import cv2\n",
    "import matplotlib.pyplot as plt\n",
    "import time\n",
    "\n",
    "THRESHOLD = 200\n",
    "TABLE = [1]*THRESHOLD + [0]*(256-THRESHOLD)\n",
    "\n",
    "def line_split(image, table=TABLE, split_threshold=4):\n",
    "\n",
    "    if not isinstance(image, Image.Image):\n",
    "        if isinstance(image, np.ndarray):\n",
    "            image = Image.fromarray(image)\n",
    "        else:\n",
    "            raise TypeError\n",
    "\n",
    "    image_ = image.convert('L')\n",
    "    bn = image_.point(table, '1')\n",
    "\n",
    "    bn_mat = np.array(bn)\n",
    "    h, pic_len = bn_mat.shape\n",
    "\n",
    "\n",
    "    bn_mat_diff = np.diff(bn_mat)\n",
    "    project = np.sum(bn_mat_diff, 1) \n",
    "    pos = np.where(project <= split_threshold)[0]  \n",
    "    project[pos] = 0\n",
    "    transformed=np.fft.fft(project)\n",
    "    itransformed_real = np.real(np.fft.ifft(transformed))\n",
    "    signal = np.around(itransformed_real)\n",
    "    pos = np.where(signal <= 0)[0]\n",
    "\n",
    "    diff = np.diff(pos)\n",
    "\n",
    "    coordinate = list(zip(pos[:-1], pos[1:]))\n",
    "    info = list(zip(diff, coordinate))\n",
    "    info = list(filter(lambda x: x[0] > 10, info))\n",
    "    line_res = []\n",
    "    for pos_info in info:\n",
    "        width = pos_info[0]\n",
    "        x1, y1, x2, y2 = 0, pos_info[1][0]-int(0.1*width), pic_len, pos_info[1][1]+int(0.1*width)\n",
    "        sub = image.crop((x1, y1, x2, y2))\n",
    "        line_res.append([np.array(sub), (x1, y1, x2, y2)])\n",
    "    return line_res\n",
    "\n",
    "\n",
    "\n",
    "img = cv2.imread('cropped_image4.png')\n",
    "t1 = time.time()\n",
    "line_imgs = line_split(img)\n",
    "t2 = time.time()\n",
    "print(\"Cost time: {}\".format(t2-t1))\n",
    "tmp = 0\n",
    "for line_img in line_imgs:\n",
    "    cv2.imwrite('./debug/'+str(tmp)+'.jpg',line_img[0])\n",
    "    tmp += 1\n",
    "    start = line_img[1][0],line_img[1][3]\n",
    "    end = line_img[1][2],line_img[1][3]\n",
    "    cv2.line(img,start,end,(0,0,255),1)\n",
    "cv2.imwrite('line_split_result.jpg',img)"
   ]
  },
  {
   "cell_type": "code",
   "execution_count": null,
   "id": "41da4e9c",
   "metadata": {},
   "outputs": [],
   "source": [
    "plt.imshow(img)"
   ]
  },
  {
   "cell_type": "code",
   "execution_count": null,
   "id": "fa999689",
   "metadata": {},
   "outputs": [],
   "source": [
    "dst = cv2.GaussianBlur(img,(9,9),cv2.BORDER_DEFAULT)\n",
    " \n",
    "# display input and output image\n",
    "cv2.imshow(\"Gaussian Smoothing\",np.hstack((img, dst)))\n",
    "cv2.waitKey(0) # waits until a key is pressed"
   ]
  },
  {
   "cell_type": "code",
   "execution_count": null,
   "id": "bbaa386a",
   "metadata": {},
   "outputs": [],
   "source": [
    "plt.hist(img)"
   ]
  }
 ],
 "metadata": {
  "kernelspec": {
   "display_name": "Python 3 (ipykernel)",
   "language": "python",
   "name": "python3"
  },
  "language_info": {
   "codemirror_mode": {
    "name": "ipython",
    "version": 3
   },
   "file_extension": ".py",
   "mimetype": "text/x-python",
   "name": "python",
   "nbconvert_exporter": "python",
   "pygments_lexer": "ipython3",
   "version": "3.9.7"
  }
 },
 "nbformat": 4,
 "nbformat_minor": 5
}
