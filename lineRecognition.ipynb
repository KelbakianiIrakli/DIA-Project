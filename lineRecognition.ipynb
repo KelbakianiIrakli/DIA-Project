{
 "cells": [
  {
   "cell_type": "code",
   "execution_count": 1,
   "id": "ed5c1d36",
   "metadata": {},
   "outputs": [],
   "source": [
    "# pip3 install opencv-python numpy matplotlib\n",
    "import cv2 as cv\n",
    "import numpy as np\n",
    "from PIL import Image\n",
    "from matplotlib import pyplot as plt\n",
    "import os\n"
   ]
  },
  {
   "cell_type": "code",
   "execution_count": 2,
   "id": "5408a4fc",
   "metadata": {},
   "outputs": [],
   "source": [
    "# Source: https://medium.com/analytics-vidhya/binarization-of-image-using-numpy-65df2b82e189\n",
    "def read_this(image_file, gray_scale=False):\n",
    "    image_src = cv.imread(image_file)\n",
    "    if gray_scale:\n",
    "        image_src = cv.cvtColor(image_src, cv.COLOR_BGR2GRAY)\n",
    "    else:\n",
    "        image_src = cv.cvtColor(image_src, cv.COLOR_BGR2RGB)\n",
    "    return image_src"
   ]
  },
  {
   "cell_type": "code",
   "execution_count": 3,
   "id": "5b646b64",
   "metadata": {},
   "outputs": [],
   "source": [
    "def ApplyOtsu(image_file, thresh_val=127, gray_scale=True):\n",
    "    image_src = read_this(image_file=image_file, gray_scale=gray_scale)\n",
    "    blur = cv.GaussianBlur(image_src,(5,5),0)\n",
    "    th, image_b = cv.threshold(image_src, 0, 255, cv.THRESH_BINARY+ cv.THRESH_OTSU)\n",
    "    return Image.fromarray(image_b)"
   ]
  },
  {
   "cell_type": "code",
   "execution_count": 4,
   "id": "98547aff",
   "metadata": {},
   "outputs": [],
   "source": [
    "def save_image(image, old_name, dir):\n",
    "    if('_binarized' not in old_name):\n",
    "        index = dir.find('.jpg')\n",
    "        final_string = dir[:index] + '_binarized' + dir[index:]\n",
    "        image.save(final_string)\n",
    "    \n",
    "\n",
    "def main():\n",
    "    dir = os.getcwd()\n",
    "    try:\n",
    "        #assuming this file is one directory upper than images\n",
    "        directory = os.fsencode(dir + '/images/')\n",
    "        for file in os.listdir(directory):\n",
    "            filename = os.fsdecode(file)\n",
    "            if filename.endswith(\".jpg\"):\n",
    "                image_dir = dir + '/images/' + filename\n",
    "                binarized_image = ApplyOtsu(image_file=image_dir)\n",
    "                save_image(binarized_image, filename, image_dir)\n",
    "            else:\n",
    "                continue\n",
    "                \n",
    "    except Exception as e:\n",
    "        print(e)\n",
    "\n",
    "if __name__ == \"__main__\":\n",
    "    main()  "
   ]
  },
  {
   "cell_type": "code",
   "execution_count": 5,
   "id": "ed77eeed",
   "metadata": {},
   "outputs": [
    {
     "data": {
      "text/plain": [
       "-1"
      ]
     },
     "execution_count": 5,
     "metadata": {},
     "output_type": "execute_result"
    }
   ],
   "source": [
    "import cv2\n",
    "import numpy as np\n",
    "#identify paragraps\n",
    "# Load image, grayscale, Gaussian blur, Otsu's threshold\n",
    "image = cv2.imread('./images/fmb-cb-55-075r_binarized.jpg')\n",
    "gray = cv2.cvtColor(image, cv2.COLOR_BGR2GRAY)\n",
    "blur = cv2.GaussianBlur(gray, (7,7), 0)\n",
    "thresh = cv2.threshold(blur, 0, 255, cv2.THRESH_BINARY_INV + cv2.THRESH_OTSU)[1]\n",
    "\n",
    "# Create rectangular structuring element and dilate\n",
    "kernel = cv2.getStructuringElement(cv2.MORPH_RECT, (5,5))\n",
    "dilate = cv2.dilate(thresh, kernel, iterations=4)\n",
    "\n",
    "# Find contours and draw rectangle\n",
    "cnts = cv2.findContours(dilate, cv2.RETR_EXTERNAL, cv2.CHAIN_APPROX_SIMPLE)\n",
    "cnts = cnts[0] if len(cnts) == 2 else cnts[1]\n",
    "\n",
    "cropped = [];\n",
    "for c in cnts:\n",
    "    x,y,w,h = cv2.boundingRect(c)\n",
    "    cropped.append(image[y:y+h, x:x+w])\n",
    "    cv2.rectangle(image, (x, y), (x + w, y + h), (30,200,10), 2)\n",
    "\n",
    "#cv2.imshow('thresh', thresh)\n",
    "#cv2.imshow('dilate', dilate)\n",
    "cv2.imshow('image', image)\n",
    "i = 0\n",
    "for k in cropped:\n",
    "    cv2.imwrite('cropped_image' + str(i) +'.png', k)\n",
    "    i= i+1\n",
    "cv2.waitKey()"
   ]
  },
  {
   "cell_type": "code",
   "execution_count": 55,
   "id": "901c1d19",
   "metadata": {},
   "outputs": [
    {
     "data": {
      "text/plain": [
       "<matplotlib.image.AxesImage at 0x1ea58529c10>"
      ]
     },
     "execution_count": 55,
     "metadata": {},
     "output_type": "execute_result"
    },
    {
     "data": {
      "image/png": "[encoded data removed]",
      "text/plain": [
       "<Figure size 432x288 with 1 Axes>"
      ]
     },
     "metadata": {
      "needs_background": "light"
     },
     "output_type": "display_data"
    }
   ],
   "source": [
    "image1 = cv2.imread(\"cropped_image2.png\")\n",
    "#plt.imshow(image1)\n",
    "#grayImage= cv2.cvtColor(image1, cv2.COLOR_BGR2GRAY)\n",
    "#plt.imshow(grayImage)\n",
    "GaussianFilter= cv2.GaussianBlur(grayImage, (5,5), 0)\n",
    "_, binarizedImage = cv2.threshold(GaussianFilter, 127, 255, cv2.THRESH_BINARY)\n",
    "plt.figure()\n",
    "plt.imshow(binarizedImage, cmap='Greys_r')\n",
    "height, width= binarizedImage.shape\n",
    "\n",
    "for i in range(height):\n",
    "    for j in range(width):\n",
    "        # img[i, j] is the RGB pixel at position (i, j)\n",
    "        # check if it's [0, 0, 0] and replace with [255, 255, 255] if so\n",
    "        if binarizedImage[i, j] == 0:\n",
    "            binarizedImage[i, j] =255\n",
    "        else:\n",
    "            binarizedImage[i, j] = 0\n",
    "plt.imshow(binarizedImage, cmap='Greys_r')          "
   ]
  },
  {
   "cell_type": "code",
   "execution_count": 106,
   "id": "a350e57a",
   "metadata": {},
   "outputs": [
    {
     "name": "stdout",
     "output_type": "stream",
     "text": [
      "[0, 0, 0, 0, 0, 0, 0, 0, 1020, 2040, 2550, 1275, 2295, 3825, 7140, 9945, 12495, 11985, 10710, 10455, 7140, 4590, 2040, 765, 510, 255, 0, 510, 765, 255, 255, 1530, 765, 1020, 1785, 3570, 10200, 17340, 21165, 19125, 18105, 15300, 8670, 4080, 3060, 2550, 2805, 2550, 2805, 2040, 1275, 510, 1275, 4080, 6120, 6120, 5865, 5610, 8160, 12495, 14535, 17340, 17340, 14790, 12750, 11220, 4845, 2805, 1785, 1785, 1275, 1020, 765, 1020, 1020, 510, 510, 510, 0, 0, 0, 0, 0, 0, 0, 0, 0, 0, 0, 0, 0, 0, 0, 0, 0, 0, 0, 0, 0, 0, 0, 0, 0, 0, 0, 0, 0, 0, 0, 0, 0, 0, 0, 0, 0, 0, 0, 0, 0, 0, 0, 0, 0, 0, 0, 0, 0, 0, 0, 0, 0, 0, 0, 0, 0, 0, 0, 0, 0, 0, 0, 0, 0, 0, 1275, 4080, 6120, 6120, 5865, 5610, 8160, 12495, 14535, 17340, 17340, 14790, 12750, 11220, 4845, 2805, 1785, 1785, 1275, 1020, 765, 1020, 1020, 510, 510, 0, 0, 0, 0, 0, 0, 0, 0, 0, 0, 0, 0, 0, 0, 0, 0, 0, 0, 0, 0, 0, 0, 0, 0, 0, 0, 0, 0, 0, 0, 0, 0, 0, 0, 0, 0, 0, 0, 0, 0, 0, 0, 0, 0, 0, 0, 0, 0, 0, 0, 0, 0, 0, 0, 0, 0, 0, 0, 0, 0, 0, 0, 0, 0, 0, 0, 0, 0, 0, 0, 0, 0, 0, 0, 0, 0, 0, 0, 0, 0, 0, 0, 0, 0, 0, 0, 0, 0, 0, 0, 0, 0, 0, 0, 0, 0, 0, 0, 0, 0, 0, 0, 0, 0, 0, 0, 0, 0, 0, 0, 0, 0, 0, 0, 0, 0, 0, 0, 0, 0, 0, 0, 0, 0, 0, 0, 0, 0, 0, 0, 0, 0, 0, 0, 0, 0, 0, 0, 0, 0, 0, 0, 0, 0, 0, 0, 0, 0, 0, 0, 0, 0, 0, 0, 0, 0, 0, 0, 0, 0, 0, 0, 0, 0, 0, 0, 0, 0, 0, 0, 0, 0, 0, 0, 0, 1275, 4080, 6120, 6120, 5865, 5610, 8160, 12240, 14280, 14280, 14790, 12750, 11220, 4845, 2805, 1785, 1530, 1275]\n"
     ]
    },
    {
     "data": {
      "image/png": "[encoded data removed]",
      "text/plain": [
       "<Figure size 360x360 with 1 Axes>"
      ]
     },
     "metadata": {
      "needs_background": "light"
     },
     "output_type": "display_data"
    }
   ],
   "source": [
    "img_row_sum = np.sum(binarizedImage,axis=1).tolist()\n",
    "print(img_row_sum)\n",
    "plt.figure(figsize=(5,5))\n",
    "plt.plot(img_row_sum)\n",
    "plt.show()\n"
   ]
  },
  {
   "cell_type": "code",
   "execution_count": 110,
   "id": "868bdeae",
   "metadata": {},
   "outputs": [
    {
     "name": "stdout",
     "output_type": "stream",
     "text": [
      "[ 16  38  61 153 354]\n"
     ]
    }
   ],
   "source": [
    "from scipy.signal import find_peaks\n",
    "x =img_row_sum\n",
    "peaks, _ = find_peaks(x, distance=20)\n",
    "print(peaks)\n"
   ]
  },
  {
   "cell_type": "code",
   "execution_count": 113,
   "id": "9f86a0de",
   "metadata": {},
   "outputs": [
    {
     "data": {
      "text/plain": [
       "<matplotlib.image.AxesImage at 0x1ea5a9311c0>"
      ]
     },
     "execution_count": 113,
     "metadata": {},
     "output_type": "execute_result"
    },
    {
     "data": {
      "image/png": "[encoded data removed]",
      "text/plain": [
       "<Figure size 432x288 with 1 Axes>"
      ]
     },
     "metadata": {
      "needs_background": "light"
     },
     "output_type": "display_data"
    }
   ],
   "source": [
    "\n",
    "newImage = binarizedImage.copy()\n",
    "height, width= newImage.shape\n",
    "for i in range(height):\n",
    "    if(i in peaks):\n",
    "        for j in range(width):\n",
    "            newImage[i,j] = 255\n",
    "plt.imshow(newImage, cmap='Greys_r')     \n",
    "        "
   ]
  },
  {
   "cell_type": "code",
   "execution_count": 74,
   "id": "a5a727d1",
   "metadata": {},
   "outputs": [
    {
     "name": "stdout",
     "output_type": "stream",
     "text": [
      "(array([ 10,  16,  28,  31,  38, 354], dtype=int64),)\n"
     ]
    }
   ],
   "source": [
    "from scipy.signal import argrelextrema\n",
    "data = np.array(img_row_sum)\n",
    "\n",
    "maximums = argrelextrema(data, np.greater, order =2)\n",
    "\n",
    "print(maximums)\n"
   ]
  },
  {
   "cell_type": "code",
   "execution_count": null,
   "id": "88cbd072",
   "metadata": {},
   "outputs": [],
   "source": []
  },
  {
   "cell_type": "code",
   "execution_count": null,
   "id": "c7da62ee",
   "metadata": {},
   "outputs": [],
   "source": []
  },
  {
   "cell_type": "code",
   "execution_count": null,
   "id": "d95aea8c",
   "metadata": {},
   "outputs": [],
   "source": []
  },
  {
   "cell_type": "code",
   "execution_count": null,
   "id": "d8268f9d",
   "metadata": {},
   "outputs": [],
   "source": []
  },
  {
   "cell_type": "code",
   "execution_count": null,
   "id": "fa5b118c",
   "metadata": {},
   "outputs": [],
   "source": []
  },
  {
   "cell_type": "code",
   "execution_count": 45,
   "id": "dfa9cdf9",
   "metadata": {},
   "outputs": [
    {
     "name": "stdout",
     "output_type": "stream",
     "text": [
      "width :  338\n",
      "height :  362\n",
      "[338 338 338 338 338 338 338 338 338 338 338 338 338 338 338 338 338 338\n",
      " 338 338 338 338 338 338 338 338 338 338 338 338 338 338 338 338 338 338\n",
      " 338 338 338 338 338 338 338 338 338 338 338 338 338 338 338 338 338 338\n",
      " 338 338 338 338 338 338 338 338 338 338 338 338 338 338 338 338 338 338\n",
      " 338 338 338 338 338 338 338 338 338 338 338 338 338 338 338 338 338 338\n",
      " 338 338 338 338 338 338 338 338 338 338 338 338 338 338 338 338 338 338\n",
      " 338 338 338 338 338 338 338 338 338 338 338 338 338 338 338 338 338 338\n",
      " 338 338 338 338 338 338 338 338 338 338 338 338 338 338 338 338 338 338\n",
      " 338 338 338 338 338 338 338 338 338 338 338 338 338 338 338 338 338 338\n",
      " 338 338 338 338 338 338 338 338 338 338 338 338 338 338 338 338 338 338\n",
      " 338 338 338 338 338 338 338 338 338 338 338 338 338 338 338 338 338 338\n",
      " 338 338 338 338 338 338 338 338 338 338 338 338 338 338 338 338 338 338\n",
      " 338 338 338 338 338 338 338 338 338 338 338 338 338 338 338 338 338 338\n",
      " 338 338 338 338 338 338 338 338 338 338 338 338 338 338 338 338 338 338\n",
      " 338 338 338 338 338 338 338 338 338 338 338 338 338 338 338 338 338 338\n",
      " 338 338 338 338 338 338 338 338 338 338 338 338 338 338 338 338 338 338\n",
      " 338 338 338 338 338 338 338 338 338 338 338 338 338 338 338 338 338 338\n",
      " 338 338 338 338 338 338 338 338 338 338 338 338 338 338 338 338 338 338\n",
      " 338 338 338 338 338 338 338 338 338 338 338 338 338 338 338 338 338 338\n",
      " 338 338 338 338 338 338 338 338 338 338 338 338 338 338 338 338 338 338\n",
      " 338 338]\n"
     ]
    }
   ],
   "source": [
    "height, width = binarizedImage.shape\n",
    "print('width : ', width)\n",
    "print('height : ', height)\n",
    "horizontal_projection = np.sum(binarizedImage, axis=1);\n",
    "print(horizontal_projection)"
   ]
  },
  {
   "cell_type": "code",
   "execution_count": 42,
   "id": "8d80118a",
   "metadata": {},
   "outputs": [
    {
     "name": "stdout",
     "output_type": "stream",
     "text": [
      "[[86190 86190 86190]\n",
      " [86190 86190 86190]\n",
      " [86190 86190 86190]\n",
      " ...\n",
      " [83014 83014 83014]\n",
      " [83477 83477 83477]\n",
      " [83442 83442 83442]]\n",
      "(362, 338, 3)\n"
     ]
    },
    {
     "ename": "TypeError",
     "evalue": "only size-1 arrays can be converted to Python scalars",
     "output_type": "error",
     "traceback": [
      "\u001b[1;31m---------------------------------------------------------------------------\u001b[0m",
      "\u001b[1;31mTypeError\u001b[0m                                 Traceback (most recent call last)",
      "\u001b[1;32m~\\AppData\\Local\\Temp/ipykernel_3532/1880695421.py\u001b[0m in \u001b[0;36m<module>\u001b[1;34m\u001b[0m\n\u001b[0;32m      6\u001b[0m \u001b[0mplt\u001b[0m\u001b[1;33m.\u001b[0m\u001b[0mimshow\u001b[0m\u001b[1;33m(\u001b[0m\u001b[0mblankImage\u001b[0m\u001b[1;33m,\u001b[0m \u001b[0mcmap\u001b[0m\u001b[1;33m=\u001b[0m\u001b[1;34m'Greys_r'\u001b[0m\u001b[1;33m)\u001b[0m\u001b[1;33m\u001b[0m\u001b[1;33m\u001b[0m\u001b[0m\n\u001b[0;32m      7\u001b[0m \u001b[1;32mfor\u001b[0m \u001b[0mrow\u001b[0m \u001b[1;32min\u001b[0m \u001b[0mrange\u001b[0m\u001b[1;33m(\u001b[0m\u001b[0mheight\u001b[0m\u001b[1;33m)\u001b[0m\u001b[1;33m:\u001b[0m\u001b[1;33m\u001b[0m\u001b[1;33m\u001b[0m\u001b[0m\n\u001b[1;32m----> 8\u001b[1;33m     \u001b[0mcv2\u001b[0m\u001b[1;33m.\u001b[0m\u001b[0mline\u001b[0m\u001b[1;33m(\u001b[0m\u001b[0mblankImage\u001b[0m\u001b[1;33m,\u001b[0m \u001b[1;33m(\u001b[0m\u001b[1;36m0\u001b[0m\u001b[1;33m,\u001b[0m\u001b[0mrow\u001b[0m\u001b[1;33m)\u001b[0m\u001b[1;33m,\u001b[0m \u001b[1;33m(\u001b[0m\u001b[0mint\u001b[0m\u001b[1;33m(\u001b[0m\u001b[0mhorizontal_projection\u001b[0m\u001b[1;33m[\u001b[0m\u001b[0mrow\u001b[0m\u001b[1;33m]\u001b[0m\u001b[1;33m*\u001b[0m\u001b[0mwidth\u001b[0m\u001b[1;33m/\u001b[0m\u001b[0mheight\u001b[0m\u001b[1;33m)\u001b[0m\u001b[1;33m,\u001b[0m\u001b[0mrow\u001b[0m\u001b[1;33m)\u001b[0m\u001b[1;33m,\u001b[0m \u001b[1;33m(\u001b[0m\u001b[1;36m255\u001b[0m\u001b[1;33m,\u001b[0m\u001b[1;36m255\u001b[0m\u001b[1;33m,\u001b[0m\u001b[1;36m255\u001b[0m\u001b[1;33m)\u001b[0m\u001b[1;33m,\u001b[0m \u001b[1;36m1\u001b[0m\u001b[1;33m)\u001b[0m\u001b[1;33m\u001b[0m\u001b[1;33m\u001b[0m\u001b[0m\n\u001b[0m",
      "\u001b[1;31mTypeError\u001b[0m: only size-1 arrays can be converted to Python scalars"
     ]
    },
    {
     "data": {
      "image/png": "[encoded data removed]",
      "text/plain": [
       "<Figure size 432x288 with 1 Axes>"
      ]
     },
     "metadata": {
      "needs_background": "light"
     },
     "output_type": "display_data"
    }
   ],
   "source": [
    "horizontal_projection = np.sum(image1, axis=1)\n",
    "print(horizontal_projection)\n",
    "print(image1.shape)\n",
    "blankImage = np.zeros((height, width, 3), np.uint8)\n",
    "plt.figure()\n",
    "plt.imshow(blankImage, cmap='Greys_r')\n",
    "for row in range(height):\n",
    "    cv2.line(blankImage, (0,row), (int(horizontal_projection[row]*width/height),row), (255,255,255), 1)"
   ]
  },
  {
   "cell_type": "code",
   "execution_count": 47,
   "id": "5186bc73",
   "metadata": {},
   "outputs": [
    {
     "data": {
      "image/png": "[encoded data removed]",
      "text/plain": [
       "<Figure size 432x288 with 1 Axes>"
      ]
     },
     "metadata": {
      "needs_background": "light"
     },
     "output_type": "display_data"
    }
   ],
   "source": [
    "plt.hist(image1.ravel(), 256, [0,256])\n",
    "plt.show()"
   ]
  },
  {
   "cell_type": "code",
   "execution_count": 12,
   "id": "05c10429",
   "metadata": {},
   "outputs": [
    {
     "data": {
      "image/png": "[encoded data removed]",
      "text/plain": [
       "<Figure size 432x288 with 1 Axes>"
      ]
     },
     "metadata": {
      "needs_background": "light"
     },
     "output_type": "display_data"
    }
   ],
   "source": [
    "img_row_sum = np.sum(image1,axis=1).tolist()\n",
    "\n",
    "plt.plot(img_row_sum)\n",
    "plt.show()"
   ]
  },
  {
   "cell_type": "code",
   "execution_count": null,
   "id": "c97866f8",
   "metadata": {},
   "outputs": [],
   "source": []
  },
  {
   "cell_type": "code",
   "execution_count": null,
   "id": "68ce9dc4",
   "metadata": {},
   "outputs": [],
   "source": [
    "import numpy as np\n",
    "from PIL import Image\n",
    "import cv2\n",
    "import matplotlib.pyplot as plt\n",
    "import time\n",
    "\n",
    "THRESHOLD = 200\n",
    "TABLE = [1]*THRESHOLD + [0]*(256-THRESHOLD)\n",
    "\n",
    "def line_split(image, table=TABLE, split_threshold=4):\n",
    "\n",
    "    if not isinstance(image, Image.Image):\n",
    "        if isinstance(image, np.ndarray):\n",
    "            image = Image.fromarray(image)\n",
    "        else:\n",
    "            raise TypeError\n",
    "\n",
    "    image_ = image.convert('L')\n",
    "    bn = image_.point(table, '1')\n",
    "\n",
    "    bn_mat = np.array(bn)\n",
    "    h, pic_len = bn_mat.shape\n",
    "\n",
    "\n",
    "    bn_mat_diff = np.diff(bn_mat)\n",
    "    project = np.sum(bn_mat_diff, 1) \n",
    "    pos = np.where(project <= split_threshold)[0]  \n",
    "    project[pos] = 0\n",
    "    transformed=np.fft.fft(project)\n",
    "    itransformed_real = np.real(np.fft.ifft(transformed))\n",
    "    signal = np.around(itransformed_real)\n",
    "    pos = np.where(signal <= 0)[0]\n",
    "\n",
    "    diff = np.diff(pos)\n",
    "\n",
    "    coordinate = list(zip(pos[:-1], pos[1:]))\n",
    "    info = list(zip(diff, coordinate))\n",
    "    info = list(filter(lambda x: x[0] > 10, info))\n",
    "    line_res = []\n",
    "    for pos_info in info:\n",
    "        width = pos_info[0]\n",
    "        x1, y1, x2, y2 = 0, pos_info[1][0]-int(0.1*width), pic_len, pos_info[1][1]+int(0.1*width)\n",
    "        sub = image.crop((x1, y1, x2, y2))\n",
    "        line_res.append([np.array(sub), (x1, y1, x2, y2)])\n",
    "    return line_res\n",
    "\n",
    "\n",
    "\n",
    "img = cv2.imread('cropped_image4.png')\n",
    "t1 = time.time()\n",
    "line_imgs = line_split(img)\n",
    "t2 = time.time()\n",
    "print(\"Cost time: {}\".format(t2-t1))\n",
    "tmp = 0\n",
    "for line_img in line_imgs:\n",
    "    cv2.imwrite('./debug/'+str(tmp)+'.jpg',line_img[0])\n",
    "    tmp += 1\n",
    "    start = line_img[1][0],line_img[1][3]\n",
    "    end = line_img[1][2],line_img[1][3]\n",
    "    cv2.line(img,start,end,(0,0,255),1)\n",
    "cv2.imwrite('line_split_result.jpg',img)"
   ]
  },
  {
   "cell_type": "code",
   "execution_count": null,
   "id": "41da4e9c",
   "metadata": {},
   "outputs": [],
   "source": [
    "plt.imshow(img)"
   ]
  },
  {
   "cell_type": "code",
   "execution_count": null,
   "id": "fa999689",
   "metadata": {},
   "outputs": [],
   "source": [
    "dst = cv2.GaussianBlur(img,(9,9),cv2.BORDER_DEFAULT)\n",
    " \n",
    "# display input and output image\n",
    "cv2.imshow(\"Gaussian Smoothing\",np.hstack((img, dst)))\n",
    "cv2.waitKey(0) # waits until a key is pressed"
   ]
  },
  {
   "cell_type": "code",
   "execution_count": null,
   "id": "bbaa386a",
   "metadata": {},
   "outputs": [],
   "source": [
    "plt.hist(img)"
   ]
  }
 ],
 "metadata": {
  "kernelspec": {
   "display_name": "Python 3 (ipykernel)",
   "language": "python",
   "name": "python3"
  },
  "language_info": {
   "codemirror_mode": {
    "name": "ipython",
    "version": 3
   },
   "file_extension": ".py",
   "mimetype": "text/x-python",
   "name": "python",
   "nbconvert_exporter": "python",
   "pygments_lexer": "ipython3",
   "version": "3.9.7"
  }
 },
 "nbformat": 4,
 "nbformat_minor": 5
}
