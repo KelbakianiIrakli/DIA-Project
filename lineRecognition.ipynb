{
 "cells": [
  {
   "cell_type": "code",
   "execution_count": null,
   "id": "ed5c1d36",
   "metadata": {},
   "outputs": [],
   "source": [
    "# pip3 install opencv-python numpy matplotlib\n",
    "import cv2 as cv\n",
    "\n",
    "import numpy as np\n",
    "from PIL import Image\n",
    "from matplotlib import pyplot as plt\n",
    "import os\n",
    "from scipy.signal import find_peaks\n",
    "\n"
   ]
  },
  {
   "cell_type": "code",
   "execution_count": null,
   "id": "f0e2a85c",
   "metadata": {},
   "outputs": [],
   "source": [
    "# Create necessary dirs if they do not exist\n",
    "direc= os.getcwd()\n",
    "dirs = [direc+ \"/linesdetected\", direc+ \"/output\", direc+ \"/cropped\"]\n",
    "\n",
    "for path in dirs:\n",
    "    isExist = os.path.exists(path)\n",
    "\n",
    "    if not isExist:\n",
    "  \n",
    "      # Create a new directory because it does not exist \n",
    "      os.makedirs(path)\n",
    "      print(\"The new directory -{0} \\n is created!\".format(path))"
   ]
  },
  {
   "cell_type": "code",
   "execution_count": null,
   "id": "2f8764b0",
   "metadata": {},
   "outputs": [],
   "source": [
    "# Source: https://medium.com/analytics-vidhya/binarization-of-image-using-numpy-65df2b82e189\n",
    "def read_this(image_file, gray_scale=False):\n",
    "    image_src = cv.imread(image_file)\n",
    "    if gray_scale:\n",
    "        image_src = cv.cvtColor(image_src, cv.COLOR_BGR2GRAY)\n",
    "    else:\n",
    "        image_src = cv.cvtColor(image_src, cv.COLOR_BGR2RGB)\n",
    "    return image_src"
   ]
  },
  {
   "cell_type": "code",
   "execution_count": null,
   "id": "342e3881",
   "metadata": {},
   "outputs": [],
   "source": [
    "import cv2\n",
    "import numpy as np\n",
    "\n",
    "#identify paragraps\n",
    "# Load image, grayscale, Gaussian blur, Otsu's threshold\n",
    "def contourFinder(img_path):\n",
    "    contour = []\n",
    "    image_orig = cv2.imread(img_path)\n",
    "    gray = cv2.cvtColor(image_orig, cv2.COLOR_BGR2GRAY)\n",
    "    blur = cv2.GaussianBlur(gray, (7,7), 0)\n",
    "    thresh = cv2.threshold(blur, 0, 255, cv2.THRESH_BINARY_INV + cv2.THRESH_OTSU)[1]\n",
    "\n",
    "# Create rectangular structuring element and dilate\n",
    "    kernel = cv2.getStructuringElement(cv2.MORPH_RECT, (5,5))\n",
    "    dilate = cv2.dilate(thresh, kernel, iterations=4)\n",
    "\n",
    "# Find contours and draw rectangle\n",
    "    cnts = cv2.findContours(dilate, cv2.RETR_EXTERNAL, cv2.CHAIN_APPROX_SIMPLE)\n",
    "    cnts = cnts[0] if len(cnts) == 2 else cnts[1]\n",
    "\n",
    "    cropped = [];\n",
    "    for c in cnts:\n",
    "        x,y,w,h = cv2.boundingRect(c)\n",
    "    \n",
    "        if (w*h < 40*40):\n",
    "            continue\n",
    "        if(len(cnts) > 1 and x == 0 and y==0 and w>=image_orig.shape[1] and h>=image_orig.shape[0]):\n",
    "            continue\n",
    "        contour.append(c)\n",
    "        cropped.append(image_orig[y:y+h, x:x+w])\n",
    "        cv2.rectangle(image_orig, (x, y), (x + w, y + h), (15,100,10), 2)\n",
    "    \n",
    "#cv2.imshow('thresh', thresh)\n",
    "#cv2.imshow('dilate', dilate)\n",
    "#cv2.imshow('image', image_orig)\n",
    "    i=0\n",
    "    for k in cropped:\n",
    "        cv2.imwrite('cropped/cropped_image' + str(i) +'.png', k)\n",
    "        i= i+1\n",
    "    cv2.waitKey()\n",
    "    return [i, contour]"
   ]
  },
  {
   "cell_type": "code",
   "execution_count": null,
   "id": "ef1ce03a",
   "metadata": {},
   "outputs": [],
   "source": [
    "def blackAndWhite(file):\n",
    "    img = cv2.imread(file)\n",
    "    img= cv2.cvtColor(img, cv2.COLOR_BGR2GRAY)\n",
    "    height, width, *rest= img.shape\n",
    "\n",
    "    for i in range(height):\n",
    "        for j in range(width):\n",
    "            if img[i, j] == 0:\n",
    "                img[i, j] =255\n",
    "            else:\n",
    "                img[i, j] = 0\n",
    "    return img"
   ]
  },
  {
   "cell_type": "code",
   "execution_count": null,
   "id": "c923fcf4",
   "metadata": {},
   "outputs": [],
   "source": [
    "def calculateYProjection(array):\n",
    "    img_row_sum = []\n",
    "    for i in range(len(array)):\n",
    "        img_row_sum.append(np.sum(array[i],axis=1).tolist())\n",
    "    return img_row_sum"
   ]
  },
  {
   "cell_type": "code",
   "execution_count": null,
   "id": "01906ff6",
   "metadata": {},
   "outputs": [],
   "source": [
    "def calculatePeaks(array):\n",
    "    peaks_of_image = []\n",
    "    for i in range(len(array)):\n",
    "        x =array[i]\n",
    "        peaks, _ = find_peaks(x, distance=15)\n",
    "        peaks_of_image.append(peaks)\n",
    "    return peaks_of_image"
   ]
  },
  {
   "cell_type": "code",
   "execution_count": null,
   "id": "bd28952e",
   "metadata": {},
   "outputs": [],
   "source": [
    "def makeLines(array, peaks_image):\n",
    "    images = array  \n",
    "    for k,image in enumerate(array):\n",
    "        newImage = image.copy()\n",
    "        height, width= newImage.shape\n",
    "        for i in range(height):\n",
    "            if(i in peaks_image[k]):\n",
    "                for j in range(width):\n",
    "                    try:\n",
    "                        newImage[i,j] = 255\n",
    "                        newImage[i-1,j] = 255\n",
    "                        newImage[i+1,j] = 255\n",
    "                        newImage[i-2,j] = 255\n",
    "                        newImage[i+2,j] = 255\n",
    "                        newImage[i-3,j] = 255\n",
    "                        newImage[i+3,j] = 255\n",
    "                    except Exception as e:\n",
    "                        continue\n",
    "                        print(\"out of boundaries\")\n",
    "        plt.imshow(newImage, cmap='Greys_r')\n",
    "        cv2.imwrite('linesdetected/cropped_image' + str(k) +'.png', newImage)"
   ]
  },
  {
   "cell_type": "code",
   "execution_count": null,
   "id": "8caa54bd",
   "metadata": {},
   "outputs": [],
   "source": [
    "def assembleImage(original_image_size , contours, filename):\n",
    "\n",
    "    img = Image.new('RGB', original_image_size[::-1] )\n",
    "    plt.imshow(img, cmap='Greys_r')\n",
    "    for idx, c in enumerate(contours):\n",
    "        x,y,w,h = cv2.boundingRect(c)\n",
    "        cr= Image.open('linesdetected/cropped_image' + str(idx) +'.png')\n",
    "        plt.imshow(cr,cmap='Greys_r' )\n",
    "        img.paste(cr, (x,y))\n",
    "    img.save(\"output/\" + filename[:-4] + \"predicted.png\")"
   ]
  },
  {
   "cell_type": "code",
   "execution_count": null,
   "id": "ff2cb8ce",
   "metadata": {},
   "outputs": [],
   "source": [
    "def save_image(image, old_name, dir):\n",
    "    if('_binarized' not in old_name):\n",
    "        index = dir.find('.jpg')\n",
    "        final_string = dir[:index] + '_binarized' + dir[index:]\n",
    "        image.save(final_string)"
   ]
  },
  {
   "cell_type": "code",
   "execution_count": null,
   "id": "9a52adf0",
   "metadata": {},
   "outputs": [],
   "source": [
    "def applyBinarizationAndSave():\n",
    "    dir = os.getcwd()\n",
    "    try:\n",
    "        #assuming this file is one directory upper than images\n",
    "        directory = os.fsencode(dir + '/images/')\n",
    "        for file in os.listdir(directory):\n",
    "            filename = os.fsdecode(file)\n",
    "            if filename.endswith(\".jpg\"):\n",
    "                image_dir = dir + '/images/' + filename\n",
    "                binarized_image = ApplyOtsu(image_file=image_dir)\n",
    "                save_image(binarized_image, filename, image_dir)\n",
    "            else:\n",
    "                continue\n",
    "                \n",
    "    except Exception as e:\n",
    "        print(e)"
   ]
  },
  {
   "cell_type": "code",
   "execution_count": null,
   "id": "ff6db1ec",
   "metadata": {},
   "outputs": [],
   "source": [
    "def ApplyOtsu(image_file, thresh_val=127, gray_scale=True):\n",
    "    image_src = read_this(image_file=image_file, gray_scale=gray_scale)\n",
    "    #blur = cv.GaussianBlur(image_src,(5,5),0)\n",
    "    th, image_b = cv.threshold(image_src, 127, 255, cv.THRESH_BINARY+ cv.THRESH_OTSU)\n",
    "    return Image.fromarray(image_b)"
   ]
  },
  {
   "cell_type": "code",
   "execution_count": null,
   "id": "d6253a37",
   "metadata": {},
   "outputs": [],
   "source": [
    "import os\n",
    "import glob\n",
    "\n",
    "def main():\n",
    "    applyBinarizationAndSave()\n",
    "    direc= os.getcwd()\n",
    "    for img in glob.glob(direc + '/images' + '/*binarized*.jpg'):\n",
    "        image_orig = cv2.imread(img)\n",
    "        number_of_images, contours = contourFinder(img)\n",
    "\n",
    "        array = []\n",
    "        img_row_sum = []\n",
    "        peaks_image = []\n",
    "\n",
    "\n",
    "        for filename in glob.glob(direc + '/cropped' + '/*.png'):\n",
    "            array.append(blackAndWhite(filename))\n",
    "    \n",
    "        img_row_sum = calculateYProjection(array)  \n",
    "\n",
    "        peaks_image= calculatePeaks(img_row_sum)\n",
    "\n",
    "        makeLines(array, peaks_image)\n",
    "\n",
    "        k =image_orig.shape[:-1]\n",
    "        assembleImage(k, contours, img.split(\"\\\\\")[-1])\n",
    "\n",
    "if __name__ == \"__main__\":\n",
    "    main()  "
   ]
  },
  {
   "cell_type": "code",
   "execution_count": null,
   "id": "1da4caa9",
   "metadata": {},
   "outputs": [],
   "source": [
    "# From here on parts from old code will be presented\n",
    "    \n",
    "\n"
   ]
  },
  {
   "cell_type": "code",
   "execution_count": null,
   "id": "11bc6723",
   "metadata": {},
   "outputs": [],
   "source": []
  },
  {
   "cell_type": "code",
   "execution_count": null,
   "id": "e7d5e936",
   "metadata": {},
   "outputs": [],
   "source": [
    "#Naive Hought Transform"
   ]
  },
  {
   "cell_type": "code",
   "execution_count": 25,
   "id": "6f003ceb",
   "metadata": {},
   "outputs": [],
   "source": [
    "import cv2\n",
    "import numpy as np\n",
    "import cv2\n",
    "import numpy as np\n",
    "from math import atan2\n",
    "import os\n",
    "import glob\n",
    "from PIL import Image\n",
    "direc= os.getcwd()\n",
    "i =0\n",
    "for img in glob.glob(direc + '/images' + '/*.jpg'):\n",
    "    image = cv2.imread(img)\n",
    "#cv2.imshow('orig',image)\n",
    "#cv2.waitKey(0)\n",
    "\n",
    "#grayscale\n",
    "    gray = cv2.cvtColor(image,cv2.COLOR_BGR2GRAY)\n",
    "    #cv2.imshow('binary',gray)\n",
    "    cv2.waitKey(0)\n",
    "    \n",
    "    blurred_image = cv2.GaussianBlur(gray, (9, 9), 0)\n",
    "    #cv2.imshow('blurred',blurred_image)\n",
    "#binary\n",
    "    ret,thresh = cv2.threshold(blurred_image,150,255,cv2.THRESH_BINARY_INV)\n",
    "    #cv2.imshow('binary',thresh)\n",
    "    cv2.waitKey(0)\n",
    "\n",
    "#dilation\n",
    "    kernel = np.ones((3,10), np.uint8)\n",
    "    img_dilation = cv2.dilate(thresh, kernel, iterations=1)\n",
    "    #cv2.imshow('dilated',img_dilation)\n",
    "\n",
    "    kernel = np.ones((8,20), np.uint8)\n",
    "    img_erosion = cv2.erode(img_dilation, kernel, iterations=1)\n",
    "    #cv2.imshow('second',img_erosion)\n",
    "    \n",
    "    kernel = np.ones((1,30), np.uint8)  # note this is a horizontal kernel\n",
    "    img_dilation = cv2.dilate(img_erosion, kernel, iterations=1)\n",
    "    #kernel = np.ones((8,20), np.uint8)\n",
    "    #img_erosion = cv2.erode(img_dilation, kernel, iterations=1)\n",
    "   # cv2.imshow('second',img_dilation)\n",
    "\n",
    "#im = Image.fromarray(img_erosion)\n",
    "#im.save(\"your_file.jpeg\")\n",
    "\n",
    "    BlackFrame = np.zeros(image.shape, np.uint8)\n",
    "\n",
    "#gray = cv2.cvtColor(e_im, cv2.COLOR_BGR2GRAY)\n",
    "    edges = cv2.Canny(img_dilation, 75, 150)\n",
    "    lines = cv2.HoughLinesP(edges, 1, np.pi/90, 30, minLineLength = 40, maxLineGap=50)\n",
    "    for line in lines:\n",
    "        x1, y1, x2, y2 = line[0]\n",
    "    \n",
    "        if(x1!=x2 and (abs((y1-y2)/(x1-x2)) < np.pi/90)):\n",
    "            cv2.line(BlackFrame, (x1, y1), (x2, y2), (255,255,255), 8)\n",
    "    im = Image.fromarray(BlackFrame)\n",
    "    im.save(\"output/\" + img[img.find(\"images\")+7:])\n",
    "    i=i+1\n",
    "#cv2.imshow(\"linesEdges\", edges)\n",
    "#cv2.imshow(\"linesDetected\", BlackFrame)\n",
    "cv2.waitKey(0)\n",
    "cv2.destroyAllWindows()"
   ]
  },
  {
   "cell_type": "code",
   "execution_count": 19,
   "id": "f3f0f9b8",
   "metadata": {},
   "outputs": [
    {
     "name": "stdout",
     "output_type": "stream",
     "text": [
      "C:\\Users\\datog\\Downloads\\for-upload\\DIA-Project/images\\fmb-cb-55-076v.jpg\n"
     ]
    }
   ],
   "source": [
    "print(img)"
   ]
  },
  {
   "cell_type": "code",
   "execution_count": 24,
   "id": "d4c4c778",
   "metadata": {},
   "outputs": [
    {
     "name": "stdout",
     "output_type": "stream",
     "text": [
      "fmb-cb-55-076v.jpg\n"
     ]
    }
   ],
   "source": [
    "print(img[img.find(\"images\")+7:])"
   ]
  },
  {
   "cell_type": "code",
   "execution_count": null,
   "id": "c50d3bbf",
   "metadata": {},
   "outputs": [],
   "source": []
  },
  {
   "cell_type": "code",
   "execution_count": null,
   "id": "8c95d5f8",
   "metadata": {},
   "outputs": [],
   "source": []
  }
 ],
 "metadata": {
  "kernelspec": {
   "display_name": "Python 3 (ipykernel)",
   "language": "python",
   "name": "python3"
  },
  "language_info": {
   "codemirror_mode": {
    "name": "ipython",
    "version": 3
   },
   "file_extension": ".py",
   "mimetype": "text/x-python",
   "name": "python",
   "nbconvert_exporter": "python",
   "pygments_lexer": "ipython3",
   "version": "3.9.7"
  }
 },
 "nbformat": 4,
 "nbformat_minor": 5
}
